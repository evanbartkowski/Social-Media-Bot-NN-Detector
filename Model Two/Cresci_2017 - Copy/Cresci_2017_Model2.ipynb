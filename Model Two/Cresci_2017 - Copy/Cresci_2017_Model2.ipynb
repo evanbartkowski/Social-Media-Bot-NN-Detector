{
 "cells": [
  {
   "cell_type": "code",
   "execution_count": 1,
   "id": "20e13008-6e97-492f-8aaa-5c63cde83430",
   "metadata": {},
   "outputs": [],
   "source": [
    "import torch\n",
    "import numpy as np\n",
    "import pandas as pd\n",
    "import json\n",
    "import os\n",
    "from transformers import pipeline\n",
    "from datetime import datetime as dt\n",
    "from torch.utils.data import Dataset\n",
    "from tqdm import tqdm"
   ]
  },
  {
   "cell_type": "markdown",
   "id": "387edfcc-7443-48a6-b4a3-e0cae8eefab0",
   "metadata": {},
   "source": [
    "# Loading Cresci-2017 data"
   ]
  },
  {
   "cell_type": "code",
   "execution_count": 3,
   "id": "a92c1ff9-21ae-4be5-abb7-e54c870c0235",
   "metadata": {},
   "outputs": [
    {
     "name": "stderr",
     "output_type": "stream",
     "text": [
      "C:\\Users\\lukez\\AppData\\Local\\Temp\\ipykernel_30512\\815080372.py:12: UserWarning: Could not infer format, so each element will be parsed individually, falling back to `dateutil`. To ensure parsing is consistent and as-expected, please specify a format.\n",
      "  df['created_at'] = pd.to_datetime(df['created_at'])\n",
      "C:\\Users\\lukez\\AppData\\Local\\Temp\\ipykernel_30512\\815080372.py:12: UserWarning: Could not infer format, so each element will be parsed individually, falling back to `dateutil`. To ensure parsing is consistent and as-expected, please specify a format.\n",
      "  df['created_at'] = pd.to_datetime(df['created_at'])\n"
     ]
    }
   ],
   "source": [
    "import datetime\n",
    "from pytz import timezone\n",
    "\n",
    "bot_accounts = pd.concat([pd.read_csv('data/social_spambots_1.csv'), pd.read_csv('data/social_spambots_2.csv'), pd.read_csv('data/social_spambots_3.csv')]).reset_index(drop=True)\n",
    "clean_accounts = pd.read_csv('data/geniune_accounts.csv')\n",
    "\n",
    "requiredColumns = ['screen_name', 'created_at', 'updated', 'location', 'verified', 'statuses_count', 'friends_count','followers_count', 'favourites_count', 'default_profile_image', 'profile_use_background_image', 'protected', 'default_profile']\n",
    "bot_accounts = bot_accounts#[requiredColumns]\n",
    "clean_accounts = clean_accounts#[requiredColumns]\n",
    "\n",
    "def clean_df(df):\n",
    "    df['created_at'] = pd.to_datetime(df['created_at'])\n",
    "    df['updated'] = pd.to_datetime(df['updated'])\n",
    "    #print(df['updated'])\n",
    "    #print()\n",
    "    #print(df['created_at'])\n",
    "    df['age'] = ((df['updated'].dt.tz_localize('UTC') - df['created_at']) / np.timedelta64(1, 'D')).astype('int') #modified this line from original repo code.\n",
    "    #df['age'] = (df['updated'].dt.tz_localize('UTC') - df['created_at']).astype('timedelta64[D]').astype(int)\n",
    "    #print(df['age'])\n",
    "    df['has_location'] = df['location'].apply(lambda x: 0 if x==x else 1)\n",
    "    df['has_avatar'] = df['default_profile_image'].apply(lambda x: 1 if x==x else 0)\n",
    "    df['has_background'] = df['profile_use_background_image'].apply(lambda x: 1 if x==x else 0)\n",
    "    df['is_verified']=df['verified'].apply(lambda x: 1 if x==x else 0)\n",
    "    df['is_protected']=df['protected'].apply(lambda x: 1 if x==x else 0)\n",
    "    df['profile_modified'] = df['default_profile'].apply(lambda x: 0 if x==x else 1)\n",
    "\n",
    "    #properties=['protected','geo_enabled','verified','contributors_enabled','is_translator','is_translation_enabled','profile_background_tile','profile_use_background_image','has_extended_profile','default_profile','default_profile_image']\n",
    "    \n",
    "    return df[['id', 'screen_name', 'age', 'has_location', 'is_verified', 'statuses_count', 'friends_count', 'followers_count', 'favourites_count', 'has_avatar', 'has_background', 'is_protected', 'profile_modified', 'protected', 'geo_enabled','verified','contributors_enabled','is_translator','profile_background_tile','profile_use_background_image','default_profile','default_profile_image', 'description']]\n",
    "\n",
    "bot_accounts = clean_df(bot_accounts)\n",
    "clean_accounts = clean_df(clean_accounts)\n",
    "\n",
    "bot_accounts['BotOrNot'] = 1\n",
    "clean_accounts['BotOrNot'] = 0\n",
    "\n",
    "combined_df = pd.concat([bot_accounts, clean_accounts], ignore_index=True)"
   ]
  },
  {
   "cell_type": "markdown",
   "id": "022ab9b2-8665-4e8e-bd04-32a0ad9a4091",
   "metadata": {},
   "source": [
    "# Extracting Tweet Data for accounts"
   ]
  },
  {
   "cell_type": "code",
   "execution_count": 7,
   "id": "daa8bd3a-b5db-485a-bd06-47cf9beb1880",
   "metadata": {},
   "outputs": [],
   "source": [
    "#tweet step\n",
    "user_idx=combined_df['id']\n",
    "uid_index={uid:index for index,uid in enumerate(user_idx.values)}"
   ]
  },
  {
   "cell_type": "code",
   "execution_count": 15,
   "id": "ede88f8b-d37a-42c4-948c-ca7eb41473af",
   "metadata": {},
   "outputs": [
    {
     "name": "stdout",
     "output_type": "stream",
     "text": [
      "extracting each_user's tweets\n"
     ]
    },
    {
     "name": "stderr",
     "output_type": "stream",
     "text": [
      "C:\\Users\\lukez\\AppData\\Local\\Temp\\ipykernel_35476\\330333828.py:4: DtypeWarning: Columns (10) have mixed types. Specify dtype option on import or set low_memory=False.\n",
      "  user_tweets=pd.read_csv('data/social_spambots_1_tweets.csv', encoding_errors= 'ignore')\n"
     ]
    },
    {
     "name": "stdout",
     "output_type": "stream",
     "text": [
      "file1 Done\n"
     ]
    },
    {
     "name": "stderr",
     "output_type": "stream",
     "text": [
      "C:\\Users\\lukez\\AppData\\Local\\Temp\\ipykernel_35476\\330333828.py:20: DtypeWarning: Columns (10) have mixed types. Specify dtype option on import or set low_memory=False.\n",
      "  user_tweets=pd.read_csv('data/social_spambots_2_tweets.csv', encoding_errors= 'ignore')\n"
     ]
    },
    {
     "name": "stdout",
     "output_type": "stream",
     "text": [
      "file2 Done\n"
     ]
    },
    {
     "name": "stderr",
     "output_type": "stream",
     "text": [
      "C:\\Users\\lukez\\AppData\\Local\\Temp\\ipykernel_35476\\330333828.py:36: DtypeWarning: Columns (7,10) have mixed types. Specify dtype option on import or set low_memory=False.\n",
      "  user_tweets=pd.read_csv('data/social_spambots_3_tweets.csv', encoding_errors= 'ignore')\n"
     ]
    },
    {
     "name": "stdout",
     "output_type": "stream",
     "text": [
      "file3 Done\n"
     ]
    },
    {
     "name": "stderr",
     "output_type": "stream",
     "text": [
      "C:\\Users\\lukez\\AppData\\Local\\Temp\\ipykernel_35476\\330333828.py:52: DtypeWarning: Columns (0) have mixed types. Specify dtype option on import or set low_memory=False.\n",
      "  user_tweets=pd.read_csv('data/geniune_accounts_tweets.csv', encoding_errors= 'ignore')\n"
     ]
    }
   ],
   "source": [
    "\n",
    "print(\"extracting each_user's tweets\")\n",
    "id_tweet={i:[] for i in range(len(user_idx))}\n",
    "\n",
    "user_tweets=pd.read_csv('data/social_spambots_1_tweets.csv', encoding_errors= 'ignore')\n",
    "\n",
    "for index, row in user_tweets.iterrows():\n",
    "    #print(row)\n",
    "    uid=row['user_id']\n",
    "    text=row['text']\n",
    "    try:\n",
    "        index=uid_index[uid]\n",
    "        id_tweet[index].append(text)\n",
    "        #print(\"Success:\",uid)\n",
    "    except KeyError:\n",
    "        #print(\"Fail:\",uid)\n",
    "        continue\n",
    "print(\"file1 Done\")\n",
    "\n",
    "#file = open('data/social_spambots_2_tweets.csv', errors='ignore')\n",
    "user_tweets=pd.read_csv('data/social_spambots_2_tweets.csv', encoding_errors= 'ignore')\n",
    "\n",
    "for index, row in user_tweets.iterrows():\n",
    "    #print(row)\n",
    "    uid=row['user_id']\n",
    "    text=row['text']\n",
    "    try:\n",
    "        index=uid_index[uid]\n",
    "        id_tweet[index].append(text)\n",
    "        #print(\"Success:\",uid)\n",
    "    except KeyError:\n",
    "        #print(\"Fail:\",uid)\n",
    "        continue\n",
    "print(\"file2 Done\")\n",
    "\n",
    "#file = open('data/social_spambots_2_tweets.csv', errors='ignore')\n",
    "user_tweets=pd.read_csv('data/social_spambots_3_tweets.csv', encoding_errors= 'ignore')\n",
    "\n",
    "for index, row in user_tweets.iterrows():\n",
    "    #print(row)\n",
    "    uid=row['user_id']\n",
    "    text=row['text']\n",
    "    try:\n",
    "        index=uid_index[uid]\n",
    "        id_tweet[index].append(text)\n",
    "        #print(\"Success:\",uid)\n",
    "    except KeyError:\n",
    "        #print(\"Fail:\",uid)\n",
    "        continue\n",
    "print(\"file3 Done\")\n",
    "\n",
    "#file = open('data/social_spambots_2_tweets.csv', errors='ignore')\n",
    "user_tweets=pd.read_csv('data/geniune_accounts_tweets.csv', encoding_errors= 'ignore')\n",
    "\n",
    "for index, row in user_tweets.iterrows():\n",
    "    #print(row)\n",
    "    uid=row['user_id']\n",
    "    text=row['text']\n",
    "    try:\n",
    "        index=uid_index[uid]\n",
    "        id_tweet[index].append(text)\n",
    "        #print(\"Success:\",uid)\n",
    "    except KeyError:\n",
    "        #print(\"Fail:\",uid)\n",
    "        continue\n",
    "\n",
    "json.dump(id_tweet,open('./processed_data/id_tweet.json','w'))"
   ]
  },
  {
   "cell_type": "code",
   "execution_count": 25,
   "id": "3e09fea7-1bd4-4b16-bd11-dba2896db8cf",
   "metadata": {},
   "outputs": [
    {
     "name": "stderr",
     "output_type": "stream",
     "text": [
      "Some weights of RobertaModel were not initialized from the model checkpoint at roberta-base and are newly initialized: ['pooler.dense.bias', 'pooler.dense.weight']\n",
      "You should probably TRAIN this model on a down-stream task to be able to use it for predictions and inference.\n",
      "Device set to use cpu\n"
     ]
    },
    {
     "name": "stdout",
     "output_type": "stream",
     "text": [
      "Running feature2 embedding\n"
     ]
    },
    {
     "name": "stderr",
     "output_type": "stream",
     "text": [
      "100%|██████████| 8386/8386 [1:36:54<00:00,  1.44it/s]  "
     ]
    },
    {
     "name": "stdout",
     "output_type": "stream",
     "text": [
      "Finished\n"
     ]
    },
    {
     "name": "stderr",
     "output_type": "stream",
     "text": [
      "\n"
     ]
    }
   ],
   "source": [
    "from transformers import pipeline\n",
    "\n",
    "each_user_tweets=json.load(open(\"processed_data/id_tweet.json\",'r'))\n",
    "\n",
    "feature_extract=pipeline('feature-extraction',model='roberta-base',tokenizer='roberta-base',device=3,padding=True, truncation=True,max_length=50, add_special_tokens = True)\n",
    "\n",
    "print('Running feature2 embedding')\n",
    "path=\"./processed_data/tweets_tensor.pt\"\n",
    "if True:\n",
    "    tweets_list=[]\n",
    "    for i in tqdm(range(len(each_user_tweets))):\n",
    "        if len(each_user_tweets[str(i)])==0:\n",
    "            total_each_person_tweets=torch.zeros(768)\n",
    "        else:\n",
    "            for j in range(len(each_user_tweets[str(i)])):\n",
    "                each_tweet=each_user_tweets[str(i)][j]\n",
    "                #print(each_tweet)\n",
    "                if each_tweet is None:\n",
    "                    total_word_tensor=torch.zeros(768)\n",
    "                else:\n",
    "                    try:\n",
    "                        each_tweet_tensor=torch.tensor(feature_extract(each_tweet))\n",
    "                        for k,each_word_tensor in enumerate(each_tweet_tensor[0]):\n",
    "                            if k==0:\n",
    "                                total_word_tensor=each_word_tensor\n",
    "                            else:\n",
    "                                total_word_tensor+=each_word_tensor\n",
    "                        total_word_tensor/=each_tweet_tensor.shape[1]\n",
    "                    except:\n",
    "                        total_word_tensor=torch.zeros(768)\n",
    "                if j==0:\n",
    "                    total_each_person_tweets=total_word_tensor\n",
    "                elif j==20:\n",
    "                    break\n",
    "                else:\n",
    "                    total_each_person_tweets+=total_word_tensor\n",
    "            if (j==20):\n",
    "                total_each_person_tweets/=20\n",
    "            else:\n",
    "                total_each_person_tweets/=len(each_user_tweets[str(i)])\n",
    "                \n",
    "        tweets_list.append(total_each_person_tweets)\n",
    "            \n",
    "    tweet_tensor=torch.stack(tweets_list)\n",
    "    torch.save(tweet_tensor,\"./processed_data/tweets_tensor.pt\")\n",
    "                \n",
    "else:\n",
    "    tweets_tensor=torch.load(path)\n",
    "print('Finished')"
   ]
  },
  {
   "cell_type": "markdown",
   "id": "2c2e5557-fcd5-4d12-b28b-7ae729969174",
   "metadata": {},
   "source": [
    "# Extracting other features from Accounts"
   ]
  },
  {
   "cell_type": "code",
   "execution_count": 10,
   "id": "9cdfa13e-8b07-4b0f-b8fc-e79ab3a69dda",
   "metadata": {},
   "outputs": [],
   "source": [
    "def load_labels1(df, root='./processed_data/', save=True, device='cpu'):\n",
    "    print('Loading labels...',end='   ')\n",
    "    path=root+'label.pt'\n",
    "    if not os.path.exists(path):\n",
    "        labels=torch.LongTensor(df['BotOrNot']).to(device)\n",
    "        if save:\n",
    "            torch.save(labels,'./processed_data/label.pt')\n",
    "    else:\n",
    "        labels=torch.load(root+\"label.pt\").to(device)\n",
    "    print('Finished')\n",
    "    \n",
    "    return labels"
   ]
  },
  {
   "cell_type": "code",
   "execution_count": 12,
   "id": "fa7c32f2-39f6-4148-86a4-5ed875c652d8",
   "metadata": {},
   "outputs": [],
   "source": [
    "def Des_Preprocess1(df, root='./processed_data/', save=True, device='cpu'):\n",
    "    print('Loading raw feature1...',end='   ')\n",
    "    path=root+'description.npy'\n",
    "    if not os.path.exists(path):\n",
    "        description=[]\n",
    "        for i in range (df.shape[0]):\n",
    "            if df['description'][i] is None:\n",
    "                description.append('None')\n",
    "            else:\n",
    "                description.append(df['description'][i])\n",
    "        description=np.array(description)\n",
    "        if save:\n",
    "            np.save(path,description)\n",
    "    else:\n",
    "        description=np.load(path,allow_pickle=True)\n",
    "    print('Finished')\n",
    "    return description\n",
    "\n",
    "def Des_embbeding1(root='./processed_data/', save=True, device='cpu'):\n",
    "    print('Running feature1 embedding')\n",
    "    path=root+\"des_tensor.pt\"\n",
    "    if not os.path.exists(path):\n",
    "        description=np.load(root+'description.npy',allow_pickle=True)\n",
    "        print('Loading RoBerta')\n",
    "        feature_extraction = pipeline('feature-extraction', model=\"distilroberta-base\", tokenizer=\"distilroberta-base\",device=0)\n",
    "        des_vec=[]\n",
    "        #for (j,each) in tqdm(enumerate(description)):\n",
    "        for each in tqdm(description):\n",
    "            feature=torch.Tensor(feature_extraction(each))\n",
    "            for (i,tensor) in enumerate(feature[0]):\n",
    "                if i==0:\n",
    "                    feature_tensor=tensor\n",
    "                else:\n",
    "                    feature_tensor+=tensor\n",
    "            feature_tensor/=feature.shape[1]\n",
    "            des_vec.append(feature_tensor)\n",
    "            #if (j%1000==0):\n",
    "                #print('[{:>6d}/229580]'.format(j+1))\n",
    "        des_tensor=torch.stack(des_vec,0).to(device)\n",
    "        if save:\n",
    "            torch.save(des_tensor,'./processed_data/des_tensor.pt')\n",
    "    else:\n",
    "        des_tensor=torch.load(root+\"des_tensor.pt\").to(device)\n",
    "    print('Finished')\n",
    "    return des_tensor"
   ]
  },
  {
   "cell_type": "code",
   "execution_count": 14,
   "id": "48e26c87-d27d-4242-9513-7cb5bcd1ddd8",
   "metadata": {},
   "outputs": [],
   "source": [
    "def tweets_preprocess1(df, root='./processed_data/', save=True, device='cpu'):\n",
    "    print('Loading raw feature2...',end='   ')\n",
    "    path=root+'tweets.npy'\n",
    "    if not os.path.exists(path):\n",
    "        tweets=[]\n",
    "        for i in range(df.shape[0]):\n",
    "            one_usr_tweets=[]\n",
    "            one_usr_tweets.append('')\n",
    "            tweets.append(one_usr_tweets)\n",
    "        tweets=np.array(tweets)\n",
    "        if save:\n",
    "            np.save(path,tweets)\n",
    "    else:\n",
    "        tweets=np.load(path,allow_pickle=True)\n",
    "    print('Finished')\n",
    "    return tweets"
   ]
  },
  {
   "cell_type": "code",
   "execution_count": 16,
   "id": "f13b9bae-86d2-432b-a8af-f32bacf2e6ba",
   "metadata": {},
   "outputs": [],
   "source": [
    "def num_prop_preprocess1(df, root='./processed_data/', save=True, device='cpu'):\n",
    "    print('Processing feature3...',end='   ')\n",
    "    path0=root+'num_properties_tensor.pt'\n",
    "    if not os.path.exists(path0):\n",
    "        path=root\n",
    "        if not os.path.exists(path+\"followers_count.pt\"):\n",
    "            followers_count=[]\n",
    "            for i in range(df.shape[0]):\n",
    "                if  df['followers_count'][i] is None:\n",
    "                    followers_count.append(0)\n",
    "                else:\n",
    "                    followers_count.append(df['followers_count'][i])\n",
    "            followers_count=torch.tensor(np.array(followers_count,dtype=np.float32)).to(device)\n",
    "            if save:\n",
    "                torch.save(followers_count,path+\"followers_count.pt\")\n",
    "        \n",
    "            friends_count=[]\n",
    "            for i in range (df.shape[0]):\n",
    "                if  df['friends_count'][i] is None:\n",
    "                    friends_count.append(0)\n",
    "                else:\n",
    "                    friends_count.append(df['friends_count'][i])\n",
    "            friends_count=torch.tensor(np.array(friends_count,dtype=np.float32)).to(device)\n",
    "            if save:\n",
    "                torch.save(friends_count,path+'friends_count.pt')\n",
    "        \n",
    "            screen_name_length=[]\n",
    "            for i in range (df.shape[0]):\n",
    "                if  df['screen_name'][i] is None:\n",
    "                    screen_name_length.append(0)\n",
    "                else:\n",
    "                    screen_name_length.append(len(df['screen_name'][i]))\n",
    "            screen_name_length=torch.tensor(np.array(screen_name_length,dtype=np.float32)).to(device)\n",
    "            if save:\n",
    "                torch.save(screen_name_length,path+'screen_name_length.pt')\n",
    "        \n",
    "            favourites_count=[]\n",
    "            for i in range (df.shape[0]):\n",
    "                if  df['favourites_count'][i] is None:\n",
    "                    favourites_count.append(0)\n",
    "                else:\n",
    "                    favourites_count.append(df['favourites_count'][i])\n",
    "            favourites_count=torch.tensor(np.array(favourites_count,dtype=np.float32)).to(device)\n",
    "            if save:\n",
    "                torch.save(favourites_count,path+'favourites_count.pt')\n",
    "            \n",
    "            active_days=[]\n",
    "            for i in range (df.shape[0]):\n",
    "                if  df['age'][i] is None:\n",
    "                    active_days.append(0)\n",
    "                else:\n",
    "                    active_days.append(df['age'][i])\n",
    "            active_days=torch.tensor(np.array(active_days,dtype=np.float32)).to(device)\n",
    "            if save:\n",
    "                torch.save(active_days,path+'active_days.pt')\n",
    "            \n",
    "            statuses_count=[]\n",
    "            for i in range (df.shape[0]):\n",
    "                if  df['statuses_count'][i] is None:\n",
    "                    statuses_count.append(0)\n",
    "                else:\n",
    "                    statuses_count.append(int(df['statuses_count'][i]))\n",
    "            statuses_count=torch.tensor(np.array(statuses_count,dtype=np.float32)).to(device)\n",
    "            if save:\n",
    "                torch.save(statuses_count,path+'statuses_count.pt')\n",
    "            \n",
    "        else:\n",
    "            active_days=torch.load(path+\"active_days.pt\")\n",
    "            screen_name_length=torch.load(path+\"screen_name_length.pt\")\n",
    "            favourites_count=torch.load(path+\"favourites_count.pt\")\n",
    "            followers_count=torch.load(path+\"followers_count.pt\")\n",
    "            friends_count=torch.load(path+\"friends_count.pt\")\n",
    "            statuses_count=torch.load(path+\"statuses_count.pt\")\n",
    "        \n",
    "        active_days=pd.Series(active_days.to('cpu').detach().numpy())\n",
    "        active_days=(active_days-active_days.mean())/active_days.std()\n",
    "        active_days=torch.tensor(np.array(active_days))\n",
    "\n",
    "        screen_name_length=pd.Series(screen_name_length.to('cpu').detach().numpy())\n",
    "        screen_name_length_days=(screen_name_length-screen_name_length.mean())/screen_name_length.std()\n",
    "        screen_name_length_days=torch.tensor(np.array(screen_name_length_days))\n",
    "\n",
    "        favourites_count=pd.Series(favourites_count.to('cpu').detach().numpy())\n",
    "        favourites_count=(favourites_count-favourites_count.mean())/favourites_count.std()\n",
    "        favourites_count=torch.tensor(np.array(favourites_count))\n",
    "\n",
    "        followers_count=pd.Series(followers_count.to('cpu').detach().numpy())\n",
    "        followers_count=(followers_count-followers_count.mean())/followers_count.std()\n",
    "        followers_count=torch.tensor(np.array(followers_count))\n",
    "\n",
    "        friends_count=pd.Series(friends_count.to('cpu').detach().numpy())\n",
    "        friends_count=(friends_count-friends_count.mean())/friends_count.std()\n",
    "        friends_count=torch.tensor(np.array(friends_count))\n",
    "\n",
    "        statuses_count=pd.Series(statuses_count.to('cpu').detach().numpy())\n",
    "        statuses_count=(statuses_count-statuses_count.mean())/statuses_count.std()\n",
    "        statuses_count=torch.tensor(np.array(statuses_count))\n",
    "\n",
    "        #print(\"followers_count shape:\", followers_count.shape)\n",
    "        #print(\"friends_count shape:\", friends_count.shape)\n",
    "        #print(\"favourites_count shape:\", favourites_count.shape)\n",
    "        #print(\"statuses_count shape:\", statuses_count.shape)\n",
    "        #print(\"screen_name_length_days shape:\", screen_name_length_days.shape)\n",
    "        #print(\"active_days shape:\", active_days.shape)\n",
    "        #num_properties_tensor=torch.cat([followers_count,active_days,screen_name_length,following_count,statues],dim=1)\n",
    "        num_prop=torch.cat((followers_count.reshape([df.shape[0],1]),\n",
    "                            active_days.reshape([df.shape[0],1]),\n",
    "                            screen_name_length_days.reshape([df.shape[0],1]),\n",
    "                            friends_count.reshape([df.shape[0],1]),\n",
    "                            statuses_count.reshape([df.shape[0],1])),1).to(device)\n",
    "\n",
    "        \n",
    "        #num_prop=torch.cat((followers_count.reshape([df.shape[0],1]),friends_count.reshape([df.shape[0],1]),favourites_count.reshape([df.shape[0],1]),statuses_count.reshape([df.shape[0],1]),screen_name_length_days.reshape([df.shape[0],1]),active_days.reshape([df.shape[0],1])),1).to(device)\n",
    "\n",
    "        if save:\n",
    "            torch.save(num_prop,\"./processed_data/num_prop.pt\")\n",
    "        \n",
    "    else:\n",
    "        num_prop=torch.load(root+\"num_properties_tensor.pt\").to(device)\n",
    "    print('Finished')\n",
    "    return num_prop"
   ]
  },
  {
   "cell_type": "code",
   "execution_count": 18,
   "id": "add26845-9523-41ea-95cd-0910aeadb4ba",
   "metadata": {},
   "outputs": [],
   "source": [
    "def cat_prop_preprocess1(df, root='./processed_data/', save=True, device='cpu'):\n",
    "    print('Processing feature4...',end='   ')\n",
    "    path=root+'cat_properties_tensor.pt'\n",
    "    if not os.path.exists(path):\n",
    "        protected=df['protected']\n",
    "        verified=df['verified']\n",
    "        \n",
    "        protected_list=[]\n",
    "        for each in protected:\n",
    "            if each == True:\n",
    "                protected_list.append(1)\n",
    "            else:\n",
    "                protected_list.append(0)\n",
    "                \n",
    "        verified_list=[]\n",
    "        for each in verified:\n",
    "            if each == True:\n",
    "                verified_list.append(1)\n",
    "            else:\n",
    "                verified_list.append(0)\n",
    "                \n",
    "        default_profile_image=[]\n",
    "        for each in df['default_profile_image']:\n",
    "            if each == True:\n",
    "                default_profile_image.append(1)\n",
    "            else:\n",
    "                default_profile_image.append(0)\n",
    "        \n",
    "        protected_tensor=torch.tensor(protected_list,dtype=torch.float)\n",
    "        verified_tensor=torch.tensor(verified_list,dtype=torch.float)\n",
    "        default_profile_image_tensor=torch.tensor(default_profile_image,dtype=torch.float)\n",
    "\n",
    "        protec = protected_tensor.reshape([8386,1])\n",
    "        verif = verified_tensor.reshape([8386,1])\n",
    "        defIm = default_profile_image_tensor.reshape([8386,1])\n",
    "        \n",
    "        cat_properties_tensor=torch.cat([protec,verif,defIm],dim=1)\n",
    "        \n",
    "        torch.save(cat_properties_tensor,'./processed_data/cat_properties_tensor.pt')\n",
    "        \n",
    "        if save:\n",
    "            torch.save(cat_properties_tensor,root+'category_properties.pt')\n",
    "    else:\n",
    "        cat_properties_tensor=torch.load(root+\"cat_properties_tensor.pt\").to(device)\n",
    "    print('Finished')\n",
    "    return cat_properties_tensor"
   ]
  },
  {
   "cell_type": "code",
   "execution_count": 20,
   "id": "1f8bb721-c084-4b1a-80b3-292adf9c4e0b",
   "metadata": {},
   "outputs": [],
   "source": [
    "def Build_Graph1(root='./processed_data/', save=True, device='cpu'):\n",
    "        print('Building graph',end='   ')\n",
    "        path=root+'edge_index0.pt'\n",
    "        if not os.path.exists(path):\n",
    "            edge_index=torch.empty(2, 0)\n",
    "            edge_type=[]\n",
    "            #edge_index.append(0,0)\n",
    "            #edge_index.append([[],[]])\n",
    "            edge_index=torch.tensor(edge_index,dtype=torch.long).t().contiguous().to(device)\n",
    "            edge_type=torch.tensor(edge_type,dtype=torch.long).to(device)\n",
    "            if save:\n",
    "                torch.save(edge_index,root+\"edge_index.pt\")\n",
    "                torch.save(edge_type,root+\"edge_type.pt\")\n",
    "        else:\n",
    "            edge_index=torch.load(root+\"edge_index.pt\").to(device)\n",
    "            edge_type=torch.load(root+\"edge_type.pt\").to(device)\n",
    "            print('Finished')\n",
    "        return edge_index,edge_type"
   ]
  },
  {
   "cell_type": "markdown",
   "id": "eeee0853-f9d9-487f-a0e9-7c53ab754748",
   "metadata": {},
   "source": [
    "# Loading extracted Features and Splitting Data"
   ]
  },
  {
   "cell_type": "code",
   "execution_count": 23,
   "id": "731d54f7-214c-46c3-9c71-b3c0e14a0745",
   "metadata": {},
   "outputs": [
    {
     "name": "stdout",
     "output_type": "stream",
     "text": [
      "Loading labels...   Finished\n",
      "torch.Size([8386])\n"
     ]
    }
   ],
   "source": [
    "labels=load_labels1(combined_df)\n",
    "print(labels.shape)"
   ]
  },
  {
   "cell_type": "code",
   "execution_count": 25,
   "id": "ebf963be-56db-4aba-aac6-934b5637d862",
   "metadata": {},
   "outputs": [
    {
     "name": "stdout",
     "output_type": "stream",
     "text": [
      "Loading raw feature1...   Finished\n",
      "Running feature1 embedding\n",
      "Loading RoBerta\n",
      "WARNING:tensorflow:From C:\\Users\\lukez\\anaconda3\\Lib\\site-packages\\tf_keras\\src\\losses.py:2976: The name tf.losses.sparse_softmax_cross_entropy is deprecated. Please use tf.compat.v1.losses.sparse_softmax_cross_entropy instead.\n",
      "\n"
     ]
    },
    {
     "name": "stderr",
     "output_type": "stream",
     "text": [
      "Device set to use cpu\n",
      "100%|██████████| 8386/8386 [02:50<00:00, 49.25it/s]\n"
     ]
    },
    {
     "name": "stdout",
     "output_type": "stream",
     "text": [
      "Finished\n"
     ]
    }
   ],
   "source": [
    "Des_Preprocess1(combined_df)\n",
    "des_tensor=Des_embbeding1()"
   ]
  },
  {
   "cell_type": "code",
   "execution_count": 26,
   "id": "b550e0e4-ef57-4f20-954a-40aa4a84b394",
   "metadata": {
    "scrolled": true
   },
   "outputs": [],
   "source": [
    "\n",
    "tweets_tensor=torch.load(\"processed_data/tweets_tensor.pt\").to('cpu')"
   ]
  },
  {
   "cell_type": "code",
   "execution_count": 27,
   "id": "0900905d-9e49-48aa-b9ba-fa7668a1d968",
   "metadata": {},
   "outputs": [
    {
     "name": "stdout",
     "output_type": "stream",
     "text": [
      "Processing feature3...   Finished\n",
      "torch.Size([8386, 5])\n"
     ]
    }
   ],
   "source": [
    "num_prop=num_prop_preprocess1(combined_df)\n",
    "print(num_prop.shape)\n",
    "\n",
    "#num_prop1=num_prop_preprocess1(combined_df)\n",
    "#print(num_prop1.shape)"
   ]
  },
  {
   "cell_type": "code",
   "execution_count": 28,
   "id": "4b4840ec-a7d5-4186-a4b5-034dadeb25c6",
   "metadata": {},
   "outputs": [
    {
     "name": "stdout",
     "output_type": "stream",
     "text": [
      "Processing feature4...   Finished\n"
     ]
    }
   ],
   "source": [
    "category_prop=cat_prop_preprocess1(combined_df)"
   ]
  },
  {
   "cell_type": "code",
   "execution_count": 29,
   "id": "059d64fb-7935-44a1-afe0-178437eaf271",
   "metadata": {},
   "outputs": [
    {
     "name": "stdout",
     "output_type": "stream",
     "text": [
      "Building graph   tensor([], size=(2, 0), dtype=torch.int32)\n",
      "tensor([], dtype=torch.int64)\n"
     ]
    },
    {
     "name": "stderr",
     "output_type": "stream",
     "text": [
      "C:\\Users\\lukez\\AppData\\Local\\Temp\\ipykernel_30512\\2188019340.py:9: UserWarning: To copy construct from a tensor, it is recommended to use sourceTensor.clone().detach() or sourceTensor.clone().detach().requires_grad_(True), rather than torch.tensor(sourceTensor).\n",
      "  edge_index=torch.tensor(edge_index,dtype=torch.long).t().contiguous().to(device)\n"
     ]
    }
   ],
   "source": [
    "edge_index,edge_type=Build_Graph1()\n",
    "edge_index=torch.empty(2, 0).type(torch.int)\n",
    "print(edge_index)\n",
    "print(edge_type)"
   ]
  },
  {
   "cell_type": "code",
   "execution_count": 31,
   "id": "99f66574-0cb3-4664-b4bc-04c03bb4633b",
   "metadata": {},
   "outputs": [
    {
     "name": "stdout",
     "output_type": "stream",
     "text": [
      "torch.Size([5870])\n",
      "torch.Size([1258])\n",
      "torch.Size([1258])\n",
      "torch.Size([8386])\n"
     ]
    }
   ],
   "source": [
    "index = []\n",
    "for i in range(num_prop.shape[0]):\n",
    "    #print(i)\n",
    "    index.append(i)\n",
    "\n",
    "index_tens = torch.tensor(index) \n",
    "from sklearn.model_selection import train_test_split\n",
    "from torch.utils.data import Subset\n",
    "\n",
    "# Split the dataset into training and validation sets\n",
    "train_idx, val_idx = train_test_split(index_tens, test_size=0.15, random_state=42)\n",
    "\n",
    "# Further split the training set into training and test sets\n",
    "train_idx, test_idx = train_test_split(train_idx, test_size=0.15 / 0.85, random_state=42)\n",
    "print(train_idx.shape)\n",
    "print(val_idx.shape)\n",
    "print(test_idx.shape)\n",
    "print(index_tens.shape)\n",
    "\n"
   ]
  },
  {
   "cell_type": "markdown",
   "id": "e15cbee8-42c0-49cd-97a5-e5c9c5881a34",
   "metadata": {},
   "source": [
    "# Model 2 Achitecture"
   ]
  },
  {
   "cell_type": "code",
   "execution_count": 39,
   "id": "11d86d01-a44b-4620-bb06-14d1458cadc4",
   "metadata": {},
   "outputs": [],
   "source": [
    "import torch\n",
    "from torch import nn\n",
    "from torch_geometric.nn import RGCNConv,FastRGCNConv,GCNConv,GATConv\n",
    "import torch.nn.functional as F\n",
    "\n",
    "class BotRGCN(nn.Module):\n",
    "    def __init__(self,des_size=768,tweet_size=768,num_prop_size=5,cat_prop_size=3,embedding_dimension=128,dropout=0.3):\n",
    "        super(BotRGCN, self).__init__()\n",
    "        self.dropout = dropout\n",
    "        self.linear_relu_des=nn.Sequential(\n",
    "            nn.Linear(des_size,int(embedding_dimension/4)),\n",
    "            nn.LeakyReLU()\n",
    "        )\n",
    "        self.linear_relu_tweet=nn.Sequential(\n",
    "            nn.Linear(tweet_size,int(embedding_dimension/4)),\n",
    "            nn.LeakyReLU()\n",
    "        )\n",
    "        self.linear_relu_num_prop=nn.Sequential(\n",
    "            nn.Linear(num_prop_size,int(embedding_dimension/4)),\n",
    "            nn.LeakyReLU()\n",
    "        )\n",
    "        self.linear_relu_cat_prop=nn.Sequential(\n",
    "            nn.Linear(cat_prop_size,int(embedding_dimension/4)),\n",
    "            nn.LeakyReLU()\n",
    "        )\n",
    "        \n",
    "        self.linear_relu_input=nn.Sequential(\n",
    "            nn.Linear(embedding_dimension,embedding_dimension),\n",
    "            nn.LeakyReLU()\n",
    "        )\n",
    "        \n",
    "        self.rgcn=RGCNConv(embedding_dimension,embedding_dimension,num_relations=2)\n",
    "        \n",
    "        self.linear_relu_output1=nn.Sequential(\n",
    "            nn.Linear(embedding_dimension,embedding_dimension),\n",
    "            nn.LeakyReLU()\n",
    "        )\n",
    "        self.linear_output2=nn.Linear(embedding_dimension,2)\n",
    "        \n",
    "        \n",
    "        \n",
    "    def forward(self,des,tweet,num_prop,cat_prop,edge_index,edge_type):\n",
    "        d=self.linear_relu_des(des)\n",
    "        t=self.linear_relu_tweet(tweet)\n",
    "        n=self.linear_relu_num_prop(num_prop)\n",
    "        c=self.linear_relu_cat_prop(cat_prop)\n",
    "        x=torch.cat((d,t,n,c),dim=1)\n",
    "        \n",
    "        x=self.linear_relu_input(x)\n",
    "        x=self.rgcn(x,edge_index,edge_type)\n",
    "        x=F.dropout(x,p=self.dropout,training=self.training)\n",
    "        x=self.rgcn(x,edge_index,edge_type)\n",
    "        x=self.linear_relu_output1(x)\n",
    "        x=self.linear_output2(x)\n",
    "            \n",
    "        return x\n",
    "            "
   ]
  },
  {
   "cell_type": "markdown",
   "id": "419ed715-e8c4-4e03-b7cc-b45e568e03a7",
   "metadata": {},
   "source": [
    "# Train and testing model two on Cresci-2017"
   ]
  },
  {
   "cell_type": "code",
   "execution_count": 42,
   "id": "93c97a7b-4b55-4ea1-8304-2c8952e49d17",
   "metadata": {},
   "outputs": [],
   "source": [
    "from sklearn.metrics import f1_score\n",
    "from sklearn.metrics import matthews_corrcoef\n",
    "from sklearn.metrics import precision_score\n",
    "from sklearn.metrics import recall_score\n",
    "from sklearn.metrics import roc_curve,auc\n",
    "\n",
    "def accuracy(output, labels):\n",
    "    preds = output.max(1)[1].type_as(labels)\n",
    "    correct = preds.eq(labels).double()\n",
    "    correct = correct.sum()\n",
    "    return correct / len(labels)\n",
    "\n",
    "def init_weights(m):\n",
    "    if type(m)==nn.Linear:\n",
    "        nn.init.kaiming_uniform_(m.weight)\n",
    "\n",
    "\n",
    "def test(test_idx, model):\n",
    "    model.eval()\n",
    "    output = model(des_tensor,tweets_tensor,num_prop,category_prop,edge_index,edge_type)\n",
    "    loss_test = loss(output[test_idx], labels[test_idx])\n",
    "    acc_test = accuracy(output[test_idx], labels[test_idx])\n",
    "    output=output.max(1)[1].to('cpu').detach().numpy()\n",
    "    label=labels.to('cpu').detach().numpy()\n",
    "    f1=f1_score(label[test_idx],output[test_idx])\n",
    "    #mcc=matthews_corrcoef(label[test_idx], output[test_idx])\n",
    "    precision=precision_score(label[test_idx],output[test_idx])\n",
    "    recall=recall_score(label[test_idx],output[test_idx])\n",
    "    fpr, tpr, thresholds = roc_curve(label[test_idx], output[test_idx], pos_label=1)\n",
    "    Auc=auc(fpr, tpr)\n",
    "    print(\"Test set results:\",\n",
    "            \"test_loss= {:.4f}\".format(loss_test.item()),\n",
    "            \"test_accuracy= {:.4f}\".format(acc_test.item()),\n",
    "            \"precision= {:.4f}\".format(precision.item()),\n",
    "            \"recall= {:.4f}\".format(recall.item()),\n",
    "            \"f1_score= {:.4f}\".format(f1.item()),\n",
    "            #\"mcc= {:.4f}\".format(mcc.item()),\n",
    "            \"auc= {:.4f}\".format(Auc.item()),\n",
    "            )"
   ]
  },
  {
   "cell_type": "markdown",
   "id": "c19faefc-6577-42bc-8e3b-97c8e4f2e82a",
   "metadata": {},
   "source": [
    "## Load Model 2 on trained weights"
   ]
  },
  {
   "cell_type": "code",
   "execution_count": 183,
   "id": "f32b7410-c5b5-48c3-816b-c5dbedfe9d64",
   "metadata": {},
   "outputs": [],
   "source": [
    "embedding_size,dropout,lr,weight_decay=32,0.1,1e-2,5e-2\n",
    "\n",
    "model1=BotRGCN(cat_prop_size=3,embedding_dimension=embedding_size).to('cpu')\n",
    "loss=nn.CrossEntropyLoss()\n",
    "optimizer = torch.optim.AdamW(model1.parameters(),\n",
    "                    lr=lr,weight_decay=weight_decay)"
   ]
  },
  {
   "cell_type": "code",
   "execution_count": 185,
   "id": "ba9980eb-646b-4cb3-adce-96d92cd6d968",
   "metadata": {},
   "outputs": [
    {
     "data": {
      "text/plain": [
       "<All keys matched successfully>"
      ]
     },
     "execution_count": 185,
     "metadata": {},
     "output_type": "execute_result"
    }
   ],
   "source": [
    "model1.load_state_dict(torch.load('botrgcn_trained_model.pt', map_location=torch.device('cpu')))"
   ]
  },
  {
   "cell_type": "markdown",
   "id": "bd79915e-031c-442c-b17d-068207743688",
   "metadata": {},
   "source": [
    "## Intial Test on pretrained weights"
   ]
  },
  {
   "cell_type": "code",
   "execution_count": 188,
   "id": "38527512-c70f-4229-9a1c-b2d00f47964e",
   "metadata": {},
   "outputs": [
    {
     "name": "stdout",
     "output_type": "stream",
     "text": [
      "Test set results: test_loss= 0.9588 test_accuracy= 0.7665 precision= 0.8732 recall= 0.7036 f1_score= 0.7793 auc= 0.7795\n"
     ]
    }
   ],
   "source": [
    "test(index_tens, model1)"
   ]
  },
  {
   "cell_type": "markdown",
   "id": "278f5d99-b490-435a-8304-c3a8a10f3a50",
   "metadata": {},
   "source": [
    "## Training Model two"
   ]
  },
  {
   "cell_type": "code",
   "execution_count": 191,
   "id": "1be3f65e-958c-4bda-a202-dd882b85dd97",
   "metadata": {},
   "outputs": [],
   "source": [
    "def train(epoch, model):\n",
    "    model.train()\n",
    "    output = model(des_tensor,tweets_tensor,num_prop,category_prop,edge_index,edge_type)\n",
    "    loss_train = loss(output[train_idx], labels[train_idx])\n",
    "    acc_train = accuracy(output[train_idx], labels[train_idx])\n",
    "    acc_val = accuracy(output[val_idx], labels[val_idx])\n",
    "    optimizer.zero_grad()\n",
    "    loss_train.backward()\n",
    "    optimizer.step()\n",
    "    print('Epoch: {:04d}'.format(epoch+1),\n",
    "        'loss_train: {:.4f}'.format(loss_train.item()),\n",
    "        'acc_train: {:.4f}'.format(acc_train.item()),\n",
    "        'acc_val: {:.4f}'.format(acc_val.item()),)\n",
    "    return acc_train,acc_val"
   ]
  },
  {
   "cell_type": "code",
   "execution_count": 193,
   "id": "f3277bff-01a4-4d71-8af8-6e2af5a4d2a6",
   "metadata": {
    "scrolled": true
   },
   "outputs": [
    {
     "name": "stdout",
     "output_type": "stream",
     "text": [
      "Epoch: 0001 loss_train: 0.9823 acc_train: 0.7670 acc_val: 0.7734\n",
      "Test set results: test_loss= 0.7485 test_accuracy= 0.6390 precision= 0.6589 recall= 0.7958 f1_score= 0.7209 auc= 0.6066\n",
      "Epoch: 0002 loss_train: 0.7399 acc_train: 0.6416 acc_val: 0.6415\n",
      "Epoch: 0003 loss_train: 0.5291 acc_train: 0.7227 acc_val: 0.7266\n",
      "Epoch: 0004 loss_train: 0.4800 acc_train: 0.8031 acc_val: 0.8060\n",
      "Test set results: test_loss= 0.5283 test_accuracy= 0.7886 precision= 0.7705 recall= 0.9102 f1_score= 0.8345 auc= 0.7634\n",
      "Epoch: 0005 loss_train: 0.5366 acc_train: 0.7784 acc_val: 0.7774\n",
      "Epoch: 0006 loss_train: 0.5173 acc_train: 0.7942 acc_val: 0.7901\n",
      "Epoch: 0007 loss_train: 0.4636 acc_train: 0.8475 acc_val: 0.8394\n",
      "Test set results: test_loss= 0.3972 test_accuracy= 0.8891 precision= 0.9134 recall= 0.8956 f1_score= 0.9044 auc= 0.8878\n",
      "Epoch: 0008 loss_train: 0.4152 acc_train: 0.8765 acc_val: 0.8784\n",
      "Test set results: test_loss= 0.3544 test_accuracy= 0.8887 precision= 0.9108 recall= 0.8980 f1_score= 0.9044 auc= 0.8868\n",
      "Epoch: 0009 loss_train: 0.3703 acc_train: 0.8813 acc_val: 0.8800\n",
      "Test set results: test_loss= 0.3227 test_accuracy= 0.8885 precision= 0.9099 recall= 0.8986 f1_score= 0.9042 auc= 0.8864\n",
      "Epoch: 0010 loss_train: 0.3366 acc_train: 0.8825 acc_val: 0.8863\n",
      "Test set results: test_loss= 0.2994 test_accuracy= 0.8899 precision= 0.9115 recall= 0.8994 f1_score= 0.9054 auc= 0.8880\n",
      "Epoch: 0011 loss_train: 0.3098 acc_train: 0.8876 acc_val: 0.8927\n",
      "Test set results: test_loss= 0.2794 test_accuracy= 0.8928 precision= 0.9155 recall= 0.9000 f1_score= 0.9077 auc= 0.8913\n",
      "Epoch: 0012 loss_train: 0.2856 acc_train: 0.8928 acc_val: 0.8967\n",
      "Test set results: test_loss= 0.2596 test_accuracy= 0.8982 precision= 0.9236 recall= 0.9007 f1_score= 0.9120 auc= 0.8976\n",
      "Epoch: 0013 loss_train: 0.2666 acc_train: 0.8993 acc_val: 0.9006\n",
      "Test set results: test_loss= 0.2387 test_accuracy= 0.9041 precision= 0.9332 recall= 0.9009 f1_score= 0.9167 auc= 0.9048\n",
      "Epoch: 0014 loss_train: 0.2438 acc_train: 0.9044 acc_val: 0.9062\n",
      "Test set results: test_loss= 0.2151 test_accuracy= 0.9113 precision= 0.9438 recall= 0.9023 f1_score= 0.9226 auc= 0.9131\n",
      "Epoch: 0015 loss_train: 0.2222 acc_train: 0.9128 acc_val: 0.9126\n",
      "Test set results: test_loss= 0.1839 test_accuracy= 0.9200 precision= 0.9540 recall= 0.9072 f1_score= 0.9300 auc= 0.9226\n",
      "Epoch: 0016 loss_train: 0.1914 acc_train: 0.9203 acc_val: 0.9181\n",
      "Test set results: test_loss= 0.1435 test_accuracy= 0.9382 precision= 0.9579 recall= 0.9357 f1_score= 0.9467 auc= 0.9388\n",
      "Epoch: 0017 loss_train: 0.1552 acc_train: 0.9363 acc_val: 0.9420\n",
      "Test set results: test_loss= 0.1188 test_accuracy= 0.9566 precision= 0.9454 recall= 0.9827 f1_score= 0.9637 auc= 0.9512\n",
      "Epoch: 0018 loss_train: 0.1324 acc_train: 0.9496 acc_val: 0.9507\n",
      "Test set results: test_loss= 0.1023 test_accuracy= 0.9618 precision= 0.9477 recall= 0.9894 f1_score= 0.9681 auc= 0.9561\n",
      "Epoch: 0019 loss_train: 0.1192 acc_train: 0.9584 acc_val: 0.9595\n",
      "Test set results: test_loss= 0.0805 test_accuracy= 0.9771 precision= 0.9779 recall= 0.9831 f1_score= 0.9805 auc= 0.9759\n",
      "Epoch: 0020 loss_train: 0.1025 acc_train: 0.9688 acc_val: 0.9698\n",
      "Test set results: test_loss= 0.0723 test_accuracy= 0.9782 precision= 0.9872 recall= 0.9754 f1_score= 0.9813 auc= 0.9788\n",
      "Epoch: 0021 loss_train: 0.0918 acc_train: 0.9731 acc_val: 0.9777\n",
      "Test set results: test_loss= 0.0637 test_accuracy= 0.9803 precision= 0.9859 recall= 0.9805 f1_score= 0.9832 auc= 0.9803\n",
      "Epoch: 0022 loss_train: 0.0706 acc_train: 0.9794 acc_val: 0.9769\n",
      "Epoch: 0023 loss_train: 0.0675 acc_train: 0.9806 acc_val: 0.9785\n",
      "Test set results: test_loss= 0.0624 test_accuracy= 0.9839 precision= 0.9832 recall= 0.9894 f1_score= 0.9863 auc= 0.9828\n",
      "Epoch: 0024 loss_train: 0.0623 acc_train: 0.9838 acc_val: 0.9801\n",
      "Test set results: test_loss= 0.0580 test_accuracy= 0.9850 precision= 0.9858 recall= 0.9886 f1_score= 0.9872 auc= 0.9842\n",
      "Epoch: 0025 loss_train: 0.0632 acc_train: 0.9842 acc_val: 0.9849\n",
      "Test set results: test_loss= 0.0526 test_accuracy= 0.9862 precision= 0.9904 recall= 0.9860 f1_score= 0.9882 auc= 0.9862\n",
      "Epoch: 0026 loss_train: 0.0566 acc_train: 0.9855 acc_val: 0.9865\n",
      "Test set results: test_loss= 0.0472 test_accuracy= 0.9881 precision= 0.9932 recall= 0.9864 f1_score= 0.9898 auc= 0.9884\n",
      "Epoch: 0027 loss_train: 0.0485 acc_train: 0.9891 acc_val: 0.9873\n",
      "Test set results: test_loss= 0.0425 test_accuracy= 0.9901 precision= 0.9939 recall= 0.9892 f1_score= 0.9915 auc= 0.9903\n",
      "Epoch: 0028 loss_train: 0.0477 acc_train: 0.9881 acc_val: 0.9889\n",
      "Test set results: test_loss= 0.0398 test_accuracy= 0.9896 precision= 0.9908 recall= 0.9914 f1_score= 0.9911 auc= 0.9892\n",
      "Epoch: 0029 loss_train: 0.0415 acc_train: 0.9906 acc_val: 0.9897\n",
      "Test set results: test_loss= 0.0415 test_accuracy= 0.9884 precision= 0.9878 recall= 0.9925 f1_score= 0.9901 auc= 0.9876\n",
      "Epoch: 0030 loss_train: 0.0420 acc_train: 0.9874 acc_val: 0.9889\n",
      "Epoch: 0031 loss_train: 0.0367 acc_train: 0.9898 acc_val: 0.9881\n",
      "Epoch: 0032 loss_train: 0.0328 acc_train: 0.9920 acc_val: 0.9921\n",
      "Test set results: test_loss= 0.0337 test_accuracy= 0.9921 precision= 0.9963 recall= 0.9902 f1_score= 0.9933 auc= 0.9925\n",
      "Epoch: 0033 loss_train: 0.0336 acc_train: 0.9917 acc_val: 0.9889\n",
      "Epoch: 0034 loss_train: 0.0297 acc_train: 0.9927 acc_val: 0.9881\n",
      "Epoch: 0035 loss_train: 0.0292 acc_train: 0.9920 acc_val: 0.9897\n",
      "Epoch: 0036 loss_train: 0.0305 acc_train: 0.9922 acc_val: 0.9905\n",
      "Epoch: 0037 loss_train: 0.0275 acc_train: 0.9928 acc_val: 0.9905\n",
      "Epoch: 0038 loss_train: 0.0254 acc_train: 0.9937 acc_val: 0.9897\n",
      "Epoch: 0039 loss_train: 0.0245 acc_train: 0.9937 acc_val: 0.9913\n",
      "Epoch: 0040 loss_train: 0.0244 acc_train: 0.9934 acc_val: 0.9913\n",
      "Epoch: 0041 loss_train: 0.0226 acc_train: 0.9942 acc_val: 0.9889\n",
      "Epoch: 0042 loss_train: 0.0226 acc_train: 0.9940 acc_val: 0.9921\n",
      "Epoch: 0043 loss_train: 0.0218 acc_train: 0.9947 acc_val: 0.9921\n",
      "Epoch: 0044 loss_train: 0.0209 acc_train: 0.9944 acc_val: 0.9913\n",
      "Epoch: 0045 loss_train: 0.0192 acc_train: 0.9949 acc_val: 0.9921\n",
      "Epoch: 0046 loss_train: 0.0198 acc_train: 0.9952 acc_val: 0.9928\n",
      "Test set results: test_loss= 0.0214 test_accuracy= 0.9942 precision= 0.9963 recall= 0.9937 f1_score= 0.9950 auc= 0.9943\n",
      "Epoch: 0047 loss_train: 0.0182 acc_train: 0.9956 acc_val: 0.9913\n",
      "Epoch: 0048 loss_train: 0.0179 acc_train: 0.9959 acc_val: 0.9921\n",
      "Epoch: 0049 loss_train: 0.0164 acc_train: 0.9959 acc_val: 0.9921\n",
      "Epoch: 0050 loss_train: 0.0164 acc_train: 0.9959 acc_val: 0.9921\n",
      "Epoch: 0051 loss_train: 0.0157 acc_train: 0.9961 acc_val: 0.9921\n",
      "Epoch: 0052 loss_train: 0.0162 acc_train: 0.9963 acc_val: 0.9928\n",
      "Epoch: 0053 loss_train: 0.0143 acc_train: 0.9956 acc_val: 0.9913\n",
      "Epoch: 0054 loss_train: 0.0151 acc_train: 0.9964 acc_val: 0.9921\n",
      "Epoch: 0055 loss_train: 0.0140 acc_train: 0.9966 acc_val: 0.9913\n",
      "Epoch: 0056 loss_train: 0.0141 acc_train: 0.9964 acc_val: 0.9913\n",
      "Epoch: 0057 loss_train: 0.0134 acc_train: 0.9968 acc_val: 0.9921\n",
      "Epoch: 0058 loss_train: 0.0129 acc_train: 0.9968 acc_val: 0.9905\n",
      "Epoch: 0059 loss_train: 0.0126 acc_train: 0.9966 acc_val: 0.9921\n",
      "Epoch: 0060 loss_train: 0.0120 acc_train: 0.9976 acc_val: 0.9905\n",
      "Epoch: 0061 loss_train: 0.0104 acc_train: 0.9976 acc_val: 0.9905\n",
      "Epoch: 0062 loss_train: 0.0109 acc_train: 0.9974 acc_val: 0.9921\n",
      "Epoch: 0063 loss_train: 0.0101 acc_train: 0.9971 acc_val: 0.9928\n",
      "Epoch: 0064 loss_train: 0.0101 acc_train: 0.9971 acc_val: 0.9928\n",
      "Epoch: 0065 loss_train: 0.0086 acc_train: 0.9978 acc_val: 0.9928\n",
      "Epoch: 0066 loss_train: 0.0093 acc_train: 0.9981 acc_val: 0.9936\n",
      "Test set results: test_loss= 0.0155 test_accuracy= 0.9963 precision= 0.9988 recall= 0.9949 f1_score= 0.9968 auc= 0.9966\n",
      "Epoch: 0067 loss_train: 0.0091 acc_train: 0.9976 acc_val: 0.9936\n",
      "Epoch: 0068 loss_train: 0.0095 acc_train: 0.9973 acc_val: 0.9936\n",
      "Epoch: 0069 loss_train: 0.0084 acc_train: 0.9981 acc_val: 0.9913\n",
      "Epoch: 0070 loss_train: 0.0079 acc_train: 0.9978 acc_val: 0.9928\n",
      "Epoch: 0071 loss_train: 0.0077 acc_train: 0.9974 acc_val: 0.9928\n",
      "Epoch: 0072 loss_train: 0.0077 acc_train: 0.9980 acc_val: 0.9921\n",
      "Epoch: 0073 loss_train: 0.0064 acc_train: 0.9986 acc_val: 0.9936\n",
      "Epoch: 0074 loss_train: 0.0058 acc_train: 0.9983 acc_val: 0.9928\n",
      "Epoch: 0075 loss_train: 0.0063 acc_train: 0.9985 acc_val: 0.9936\n",
      "Epoch: 0076 loss_train: 0.0055 acc_train: 0.9983 acc_val: 0.9913\n",
      "Epoch: 0077 loss_train: 0.0058 acc_train: 0.9986 acc_val: 0.9928\n",
      "Epoch: 0078 loss_train: 0.0046 acc_train: 0.9991 acc_val: 0.9936\n",
      "Epoch: 0079 loss_train: 0.0047 acc_train: 0.9990 acc_val: 0.9928\n",
      "Epoch: 0080 loss_train: 0.0043 acc_train: 0.9988 acc_val: 0.9905\n",
      "Epoch: 0081 loss_train: 0.0043 acc_train: 0.9993 acc_val: 0.9913\n",
      "Epoch: 0082 loss_train: 0.0037 acc_train: 0.9991 acc_val: 0.9921\n",
      "Epoch: 0083 loss_train: 0.0036 acc_train: 0.9991 acc_val: 0.9921\n",
      "Epoch: 0084 loss_train: 0.0039 acc_train: 0.9990 acc_val: 0.9905\n",
      "Epoch: 0085 loss_train: 0.0035 acc_train: 0.9995 acc_val: 0.9928\n",
      "Epoch: 0086 loss_train: 0.0031 acc_train: 0.9993 acc_val: 0.9921\n",
      "Epoch: 0087 loss_train: 0.0034 acc_train: 0.9995 acc_val: 0.9913\n",
      "Epoch: 0088 loss_train: 0.0030 acc_train: 0.9993 acc_val: 0.9913\n",
      "Epoch: 0089 loss_train: 0.0031 acc_train: 0.9991 acc_val: 0.9873\n",
      "Epoch: 0090 loss_train: 0.0031 acc_train: 0.9995 acc_val: 0.9905\n",
      "Epoch: 0091 loss_train: 0.0024 acc_train: 0.9995 acc_val: 0.9921\n",
      "Epoch: 0092 loss_train: 0.0027 acc_train: 0.9998 acc_val: 0.9905\n",
      "Epoch: 0093 loss_train: 0.0021 acc_train: 0.9998 acc_val: 0.9905\n",
      "Epoch: 0094 loss_train: 0.0026 acc_train: 0.9993 acc_val: 0.9881\n",
      "Epoch: 0095 loss_train: 0.0024 acc_train: 0.9995 acc_val: 0.9897\n",
      "Epoch: 0096 loss_train: 0.0016 acc_train: 0.9998 acc_val: 0.9897\n",
      "Epoch: 0097 loss_train: 0.0019 acc_train: 0.9998 acc_val: 0.9905\n",
      "Epoch: 0098 loss_train: 0.0018 acc_train: 0.9997 acc_val: 0.9913\n",
      "Epoch: 0099 loss_train: 0.0016 acc_train: 0.9998 acc_val: 0.9905\n",
      "Epoch: 0100 loss_train: 0.0019 acc_train: 0.9998 acc_val: 0.9889\n",
      "Epoch: 0101 loss_train: 0.0021 acc_train: 0.9995 acc_val: 0.9897\n",
      "Epoch: 0102 loss_train: 0.0023 acc_train: 0.9995 acc_val: 0.9889\n",
      "Epoch: 0103 loss_train: 0.0046 acc_train: 0.9985 acc_val: 0.9913\n",
      "Epoch: 0104 loss_train: 0.0015 acc_train: 0.9995 acc_val: 0.9905\n",
      "Epoch: 0105 loss_train: 0.0024 acc_train: 0.9997 acc_val: 0.9905\n",
      "Epoch: 0106 loss_train: 0.0023 acc_train: 0.9993 acc_val: 0.9897\n",
      "Epoch: 0107 loss_train: 0.0019 acc_train: 0.9998 acc_val: 0.9905\n",
      "Epoch: 0108 loss_train: 0.0011 acc_train: 0.9998 acc_val: 0.9921\n",
      "Epoch: 0109 loss_train: 0.0024 acc_train: 0.9991 acc_val: 0.9913\n",
      "Epoch: 0110 loss_train: 0.0015 acc_train: 0.9997 acc_val: 0.9889\n",
      "Epoch: 0111 loss_train: 0.0023 acc_train: 0.9988 acc_val: 0.9913\n",
      "Epoch: 0112 loss_train: 0.0007 acc_train: 0.9998 acc_val: 0.9913\n",
      "Epoch: 0113 loss_train: 0.0033 acc_train: 0.9988 acc_val: 0.9881\n",
      "Epoch: 0114 loss_train: 0.0012 acc_train: 0.9998 acc_val: 0.9921\n",
      "Epoch: 0115 loss_train: 0.0040 acc_train: 0.9986 acc_val: 0.9913\n",
      "Epoch: 0116 loss_train: 0.0007 acc_train: 0.9998 acc_val: 0.9897\n",
      "Epoch: 0117 loss_train: 0.0022 acc_train: 0.9995 acc_val: 0.9897\n"
     ]
    }
   ],
   "source": [
    "epochs=200\n",
    "trainAccList = []\n",
    "valAccList = []\n",
    "acc_val_best = 0\n",
    "i = 0\n",
    "for epoch in range(epochs):\n",
    "    acc_train,acc_val = train(epoch, model1)\n",
    "    trainAccList.append(acc_train)\n",
    "    valAccList.append(acc_val)\n",
    "    if acc_val > acc_val_best:\n",
    "        acc_val_best = acc_val\n",
    "        test(index_tens, model1)\n",
    "        torch.save(model1.state_dict(), \"BotRGNC_AfterTrain.pth\")\n",
    "        i=0\n",
    "    else:\n",
    "        i = i+1\n",
    "\n",
    "    if i>50:\n",
    "        break"
   ]
  },
  {
   "cell_type": "markdown",
   "id": "4f359ad7-b7e5-49c3-9755-3ef266de98b7",
   "metadata": {},
   "source": [
    "## Results"
   ]
  },
  {
   "cell_type": "code",
   "execution_count": 195,
   "id": "4682420f-a5bf-4595-adca-b8b7e728999f",
   "metadata": {},
   "outputs": [
    {
     "name": "stdout",
     "output_type": "stream",
     "text": [
      "Test set results: test_loss= 0.0155 test_accuracy= 0.9963 precision= 0.9988 recall= 0.9949 f1_score= 0.9968 auc= 0.9966\n"
     ]
    }
   ],
   "source": [
    "model1.load_state_dict(torch.load('BotRGNC_AfterTrain.pth'))\n",
    "test(index_tens, model1)"
   ]
  },
  {
   "cell_type": "code",
   "execution_count": 196,
   "id": "8d35582f-cc93-4030-bec0-bf5360f98dbc",
   "metadata": {},
   "outputs": [
    {
     "data": {
      "image/png": "[encoded data removed]",
      "text/plain": [
       "<Figure size 640x480 with 1 Axes>"
      ]
     },
     "metadata": {},
     "output_type": "display_data"
    }
   ],
   "source": [
    "import matplotlib.pyplot as plt\n",
    "# Assuming you have collected the accuracy values in lists\n",
    "train_acc = trainAccList  # Example training accuracy values\n",
    "val_acc = valAccList  # Example validation accuracy values\n",
    "\n",
    "epochs = range(1, len(train_acc) + 1)\n",
    "\n",
    "# Plot training and validation accuracy\n",
    "plt.plot(epochs, train_acc, 'tab:blue', label='Training Accuracy')\n",
    "plt.plot(epochs, val_acc, 'tab:orange', label='Validation Accuracy')\n",
    "\n",
    "# Add titles and labels\n",
    "plt.title('Model Accuracy')\n",
    "plt.xlabel('Epochs')\n",
    "plt.ylabel('Accuracy')\n",
    "plt.legend()\n",
    "\n",
    "# Show the plot\n",
    "plt.show()"
   ]
  },
  {
   "cell_type": "code",
   "execution_count": 197,
   "id": "78d5aef2-94b3-4361-960c-55c436a78152",
   "metadata": {},
   "outputs": [],
   "source": [
    "model1.eval()\n",
    "output = model1(des_tensor,tweets_tensor,num_prop,category_prop,edge_index,edge_type)\n",
    "output1= torch.nn.functional.softmax(output, dim=1)[:, 1].detach().numpy()\n",
    "label=labels.to('cpu').detach().numpy()\n",
    "\n",
    "from sklearn.metrics import classification_report\n",
    "from sklearn.metrics import confusion_matrix\n",
    "from sklearn import metrics\n",
    "fpr, tpr, _ = metrics.roc_curve(label[test_idx], output1[test_idx])"
   ]
  },
  {
   "cell_type": "code",
   "execution_count": 198,
   "id": "cf91591a-8da4-4709-8617-eaf118446e24",
   "metadata": {},
   "outputs": [
    {
     "data": {
      "image/png": "[encoded data removed]",
      "text/plain": [
       "<Figure size 640x480 with 1 Axes>"
      ]
     },
     "metadata": {},
     "output_type": "display_data"
    }
   ],
   "source": [
    "plt.plot(\n",
    "    fpr,\n",
    "    tpr,\n",
    "    color= \"g\",\n",
    "    lw=1,\n",
    "    label= \"AUC_Balanced\",\n",
    ")\n",
    "plt.plot([0, 1], [0, 1], color=\"r\", lw=1, linestyle=\"--\")\n",
    "plt.xlim([0.0, 1.0])\n",
    "plt.ylim([0.0, 1.05])\n",
    "plt.xlabel(\"False Positive Rate\")\n",
    "plt.ylabel(\"True Positive Rate\")\n",
    "plt.title(\"ROC curve.\")\n",
    "plt.legend(loc=\"lower right\")\n",
    "plt.show()"
   ]
  },
  {
   "cell_type": "code",
   "execution_count": null,
   "id": "6e47a076-46c0-4bca-bee4-23b314df18a4",
   "metadata": {},
   "outputs": [],
   "source": []
  }
 ],
 "metadata": {
  "kernelspec": {
   "display_name": "Python [conda env:base] *",
   "language": "python",
   "name": "conda-base-py"
  },
  "language_info": {
   "codemirror_mode": {
    "name": "ipython",
    "version": 3
   },
   "file_extension": ".py",
   "mimetype": "text/x-python",
   "name": "python",
   "nbconvert_exporter": "python",
   "pygments_lexer": "ipython3",
   "version": "3.12.9"
  }
 },
 "nbformat": 4,
 "nbformat_minor": 5
}
