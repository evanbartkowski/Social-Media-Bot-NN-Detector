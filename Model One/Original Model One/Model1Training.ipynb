{
 "cells": [
  {
   "cell_type": "markdown",
   "id": "6b763e8d-6b5d-4f14-b022-4e4db80d4bc0",
   "metadata": {},
   "source": [
    "This code is slightly modified version of \"Machine Learning - Account based - Deep Learning\" from the repo https://github.com/warproxxx/Twitter-Bot-or-Not?tab=readme-ov-file. This was to test and see if the model still worked and make any necersary changes to get model functional for future work."
   ]
  },
  {
   "cell_type": "markdown",
   "id": "371472df-11a9-487c-9b42-f8865c035c8e",
   "metadata": {},
   "source": [
    "This first section is simply loading the model and getting a summary of it, as well as some imports used later."
   ]
  },
  {
   "cell_type": "code",
   "execution_count": 59,
   "id": "68840331-9d8e-424c-ba3e-7c436c2f9b7b",
   "metadata": {},
   "outputs": [],
   "source": [
    "import tensorflow as tf\n",
    "\n",
    "import pandas as pd\n",
    "import numpy as np\n",
    "import math\n",
    "\n",
    "from keras.layers import Embedding, Dense, LSTM, Dense, Input, concatenate\n",
    "from keras.models import Model\n",
    "from keras.utils import plot_model\n",
    "\n",
    "from keras.preprocessing.sequence import pad_sequences"
   ]
  },
  {
   "cell_type": "code",
   "execution_count": 61,
   "id": "0d5d7f2d-9bc0-498f-84b0-aec9feb53d9e",
   "metadata": {
    "scrolled": true
   },
   "outputs": [],
   "source": [
    "loaded_model = tf.keras.models.load_model('my_model.h5', compile=False)"
   ]
  },
  {
   "cell_type": "code",
   "execution_count": 63,
   "id": "117fe681-839d-4c5f-85ee-7246e1a8f24c",
   "metadata": {},
   "outputs": [],
   "source": [
    "loaded_model.load_weights('my_model.h5')"
   ]
  },
  {
   "cell_type": "code",
   "execution_count": 65,
   "id": "7415d924-9aba-461e-b120-daa43660840b",
   "metadata": {},
   "outputs": [],
   "source": [
    "loaded_model.compile(\n",
    "    optimizer='adam', \n",
    "    loss='binary_crossentropy', \n",
    "    metrics=['accuracy']\n",
    ")"
   ]
  },
  {
   "cell_type": "code",
   "execution_count": 67,
   "id": "84bad9e9-cae9-48a3-9fc5-587b48cf50dd",
   "metadata": {},
   "outputs": [
    {
     "data": {
      "text/html": [
       "<pre style=\"white-space:pre;overflow-x:auto;line-height:normal;font-family:Menlo,'DejaVu Sans Mono',consolas,'Courier New',monospace\"><span style=\"font-weight: bold\">Model: \"model_1\"</span>\n",
       "</pre>\n"
      ],
      "text/plain": [
       "\u001b[1mModel: \"model_1\"\u001b[0m\n"
      ]
     },
     "metadata": {},
     "output_type": "display_data"
    },
    {
     "data": {
      "text/html": [
       "<pre style=\"white-space:pre;overflow-x:auto;line-height:normal;font-family:Menlo,'DejaVu Sans Mono',consolas,'Courier New',monospace\">┏━━━━━━━━━━━━━━━━━━━━━━━━━━━━━━━━━┳━━━━━━━━━━━━━━━━━━━━━━━━┳━━━━━━━━━━━━━━━┓\n",
       "┃<span style=\"font-weight: bold\"> Layer (type)                    </span>┃<span style=\"font-weight: bold\"> Output Shape           </span>┃<span style=\"font-weight: bold\">       Param # </span>┃\n",
       "┡━━━━━━━━━━━━━━━━━━━━━━━━━━━━━━━━━╇━━━━━━━━━━━━━━━━━━━━━━━━╇━━━━━━━━━━━━━━━┩\n",
       "│ input_1 (<span style=\"color: #0087ff; text-decoration-color: #0087ff\">InputLayer</span>)            │ (<span style=\"color: #00d7ff; text-decoration-color: #00d7ff\">None</span>, <span style=\"color: #00af00; text-decoration-color: #00af00\">10</span>)             │             <span style=\"color: #00af00; text-decoration-color: #00af00\">0</span> │\n",
       "├─────────────────────────────────┼────────────────────────┼───────────────┤\n",
       "│ dense_1 (<span style=\"color: #0087ff; text-decoration-color: #0087ff\">Dense</span>)                 │ (<span style=\"color: #00d7ff; text-decoration-color: #00d7ff\">None</span>, <span style=\"color: #00af00; text-decoration-color: #00af00\">500</span>)            │         <span style=\"color: #00af00; text-decoration-color: #00af00\">5,500</span> │\n",
       "├─────────────────────────────────┼────────────────────────┼───────────────┤\n",
       "│ dense_2 (<span style=\"color: #0087ff; text-decoration-color: #0087ff\">Dense</span>)                 │ (<span style=\"color: #00d7ff; text-decoration-color: #00d7ff\">None</span>, <span style=\"color: #00af00; text-decoration-color: #00af00\">200</span>)            │       <span style=\"color: #00af00; text-decoration-color: #00af00\">100,200</span> │\n",
       "├─────────────────────────────────┼────────────────────────┼───────────────┤\n",
       "│ dense_3 (<span style=\"color: #0087ff; text-decoration-color: #0087ff\">Dense</span>)                 │ (<span style=\"color: #00d7ff; text-decoration-color: #00d7ff\">None</span>, <span style=\"color: #00af00; text-decoration-color: #00af00\">1</span>)              │           <span style=\"color: #00af00; text-decoration-color: #00af00\">201</span> │\n",
       "└─────────────────────────────────┴────────────────────────┴───────────────┘\n",
       "</pre>\n"
      ],
      "text/plain": [
       "┏━━━━━━━━━━━━━━━━━━━━━━━━━━━━━━━━━┳━━━━━━━━━━━━━━━━━━━━━━━━┳━━━━━━━━━━━━━━━┓\n",
       "┃\u001b[1m \u001b[0m\u001b[1mLayer (type)                   \u001b[0m\u001b[1m \u001b[0m┃\u001b[1m \u001b[0m\u001b[1mOutput Shape          \u001b[0m\u001b[1m \u001b[0m┃\u001b[1m \u001b[0m\u001b[1m      Param #\u001b[0m\u001b[1m \u001b[0m┃\n",
       "┡━━━━━━━━━━━━━━━━━━━━━━━━━━━━━━━━━╇━━━━━━━━━━━━━━━━━━━━━━━━╇━━━━━━━━━━━━━━━┩\n",
       "│ input_1 (\u001b[38;5;33mInputLayer\u001b[0m)            │ (\u001b[38;5;45mNone\u001b[0m, \u001b[38;5;34m10\u001b[0m)             │             \u001b[38;5;34m0\u001b[0m │\n",
       "├─────────────────────────────────┼────────────────────────┼───────────────┤\n",
       "│ dense_1 (\u001b[38;5;33mDense\u001b[0m)                 │ (\u001b[38;5;45mNone\u001b[0m, \u001b[38;5;34m500\u001b[0m)            │         \u001b[38;5;34m5,500\u001b[0m │\n",
       "├─────────────────────────────────┼────────────────────────┼───────────────┤\n",
       "│ dense_2 (\u001b[38;5;33mDense\u001b[0m)                 │ (\u001b[38;5;45mNone\u001b[0m, \u001b[38;5;34m200\u001b[0m)            │       \u001b[38;5;34m100,200\u001b[0m │\n",
       "├─────────────────────────────────┼────────────────────────┼───────────────┤\n",
       "│ dense_3 (\u001b[38;5;33mDense\u001b[0m)                 │ (\u001b[38;5;45mNone\u001b[0m, \u001b[38;5;34m1\u001b[0m)              │           \u001b[38;5;34m201\u001b[0m │\n",
       "└─────────────────────────────────┴────────────────────────┴───────────────┘\n"
      ]
     },
     "metadata": {},
     "output_type": "display_data"
    },
    {
     "data": {
      "text/html": [
       "<pre style=\"white-space:pre;overflow-x:auto;line-height:normal;font-family:Menlo,'DejaVu Sans Mono',consolas,'Courier New',monospace\"><span style=\"font-weight: bold\"> Total params: </span><span style=\"color: #00af00; text-decoration-color: #00af00\">105,901</span> (413.68 KB)\n",
       "</pre>\n"
      ],
      "text/plain": [
       "\u001b[1m Total params: \u001b[0m\u001b[38;5;34m105,901\u001b[0m (413.68 KB)\n"
      ]
     },
     "metadata": {},
     "output_type": "display_data"
    },
    {
     "data": {
      "text/html": [
       "<pre style=\"white-space:pre;overflow-x:auto;line-height:normal;font-family:Menlo,'DejaVu Sans Mono',consolas,'Courier New',monospace\"><span style=\"font-weight: bold\"> Trainable params: </span><span style=\"color: #00af00; text-decoration-color: #00af00\">105,901</span> (413.68 KB)\n",
       "</pre>\n"
      ],
      "text/plain": [
       "\u001b[1m Trainable params: \u001b[0m\u001b[38;5;34m105,901\u001b[0m (413.68 KB)\n"
      ]
     },
     "metadata": {},
     "output_type": "display_data"
    },
    {
     "data": {
      "text/html": [
       "<pre style=\"white-space:pre;overflow-x:auto;line-height:normal;font-family:Menlo,'DejaVu Sans Mono',consolas,'Courier New',monospace\"><span style=\"font-weight: bold\"> Non-trainable params: </span><span style=\"color: #00af00; text-decoration-color: #00af00\">0</span> (0.00 B)\n",
       "</pre>\n"
      ],
      "text/plain": [
       "\u001b[1m Non-trainable params: \u001b[0m\u001b[38;5;34m0\u001b[0m (0.00 B)\n"
      ]
     },
     "metadata": {},
     "output_type": "display_data"
    }
   ],
   "source": [
    "loaded_model.summary()"
   ]
  },
  {
   "cell_type": "markdown",
   "id": "99775984-a22f-4f1b-b879-de40c86673a7",
   "metadata": {},
   "source": [
    "This section required slight modification to how age was calculated to get it running without error. It also required two new imports."
   ]
  },
  {
   "cell_type": "code",
   "execution_count": 70,
   "id": "fffed043-a371-4a26-a6af-09bb39920fad",
   "metadata": {},
   "outputs": [],
   "source": [
    "import datetime\n",
    "from pytz import timezone"
   ]
  },
  {
   "cell_type": "code",
   "execution_count": 72,
   "id": "4956f267-5f4d-41ce-b9b4-2d56cdf5b7dd",
   "metadata": {},
   "outputs": [
    {
     "name": "stderr",
     "output_type": "stream",
     "text": [
      "C:\\Users\\lukez\\AppData\\Local\\Temp\\ipykernel_28792\\3117387048.py:9: UserWarning: Could not infer format, so each element will be parsed individually, falling back to `dateutil`. To ensure parsing is consistent and as-expected, please specify a format.\n",
      "  df['created_at'] = pd.to_datetime(df['created_at'])\n",
      "C:\\Users\\lukez\\AppData\\Local\\Temp\\ipykernel_28792\\3117387048.py:9: UserWarning: Could not infer format, so each element will be parsed individually, falling back to `dateutil`. To ensure parsing is consistent and as-expected, please specify a format.\n",
      "  df['created_at'] = pd.to_datetime(df['created_at'])\n"
     ]
    }
   ],
   "source": [
    "bot_accounts = pd.concat([pd.read_csv('data/social_spambots_1.csv'), pd.read_csv('data/social_spambots_2.csv'), pd.read_csv('data/social_spambots_3.csv')]).reset_index(drop=True)\n",
    "clean_accounts = pd.read_csv('data/geniune_accounts.csv')\n",
    "\n",
    "requiredColumns = ['screen_name', 'created_at', 'updated', 'location', 'verified', 'statuses_count', 'friends_count','followers_count', 'favourites_count', 'default_profile_image', 'profile_use_background_image', 'protected', 'default_profile']\n",
    "bot_accounts = bot_accounts[requiredColumns]\n",
    "clean_accounts = clean_accounts[requiredColumns]\n",
    "\n",
    "def clean_df(df):\n",
    "    df['created_at'] = pd.to_datetime(df['created_at'])\n",
    "    df['updated'] = pd.to_datetime(df['updated'])\n",
    "    #print(df['updated'])\n",
    "    #print()\n",
    "    #print(df['created_at'])\n",
    "    df['age'] = ((df['updated'].dt.tz_localize('UTC') - df['created_at']) / np.timedelta64(1, 'D')).astype('int') #modified this line from original repo code.\n",
    "    #df['age'] = (df['updated'].dt.tz_localize('UTC') - df['created_at']).astype('timedelta64[D]').astype(int)\n",
    "    #print(df['age'])\n",
    "    df['has_location'] = df['location'].apply(lambda x: 0 if x==x else 1)\n",
    "    df['has_avatar'] = df['default_profile_image'].apply(lambda x: 1 if x==x else 0)\n",
    "    df['has_background'] = df['profile_use_background_image'].apply(lambda x: 1 if x==x else 0)\n",
    "    df['is_verified']=df['verified'].apply(lambda x: 1 if x==x else 0)\n",
    "    df['is_protected']=df['protected'].apply(lambda x: 1 if x==x else 0)\n",
    "    df['profile_modified'] = df['default_profile'].apply(lambda x: 0 if x==x else 1)\n",
    "    df = df.rename(index=str, columns={\"screen_name\": \"username\", \"statuses_count\": \"total_tweets\", \"friends_count\": \"total_following\", \"followers_count\": \"total_followers\", \"favourites_count\": \"total_likes\"})\n",
    "    return df[['username', 'age', 'has_location', 'is_verified', 'total_tweets', 'total_following', 'total_followers', 'total_likes', 'has_avatar', 'has_background', 'is_protected', 'profile_modified']]\n",
    "\n",
    "bot_accounts = clean_df(bot_accounts)\n",
    "clean_accounts = clean_df(clean_accounts)"
   ]
  },
  {
   "cell_type": "markdown",
   "id": "940d90c9-2659-4d2a-8dd1-e6f3411f4934",
   "metadata": {},
   "source": [
    "No Changes neccersary from original repo."
   ]
  },
  {
   "cell_type": "code",
   "execution_count": 74,
   "id": "a0b4803b-24f2-4210-a350-5a59ac47d611",
   "metadata": {},
   "outputs": [],
   "source": [
    "bot_accounts['BotOrNot'] = 1\n",
    "clean_accounts['BotOrNot'] = 0\n",
    "\n",
    "combined_df = pd.concat([bot_accounts, clean_accounts])\n",
    "\n",
    "new_df = combined_df.sample(frac=1).reset_index(drop=True)"
   ]
  },
  {
   "cell_type": "code",
   "execution_count": 75,
   "id": "871aa46c-d2a1-4f1f-955d-52359437db5e",
   "metadata": {},
   "outputs": [],
   "source": [
    "training_df = new_df.drop('username', axis=1)[:int(combined_df.shape[0] * 0.8)]\n",
    "test_df = new_df.drop('username', axis=1)[int(combined_df.shape[0] * 0.8):]\n",
    "\n",
    "columns_to_standardize = ['age', 'total_tweets', 'total_following', 'total_followers', 'total_likes']\n",
    "\n",
    "training_df_mean = training_df[columns_to_standardize].mean()\n",
    "training_df_std = training_df[columns_to_standardize].std()\n",
    "\n",
    "training_df[columns_to_standardize] = (training_df[columns_to_standardize] - training_df_mean)/training_df_std\n",
    "test_df[columns_to_standardize] = (test_df[columns_to_standardize] - training_df_mean)/training_df_std\n"
   ]
  },
  {
   "cell_type": "markdown",
   "id": "d6cebba5-f4ae-443d-a066-72f5503a6f08",
   "metadata": {},
   "source": [
    "Added code to plot the skew of the data to better understand the data."
   ]
  },
  {
   "cell_type": "code",
   "execution_count": 77,
   "id": "e484464c-779c-4a87-8862-c1a173a0ab25",
   "metadata": {},
   "outputs": [
    {
     "name": "stdout",
     "output_type": "stream",
     "text": [
      "botlable: 2790    personlable: 3918\n"
     ]
    },
    {
     "data": {
      "text/plain": [
       "Text(0.5, 1.0, 'Ratio of training data')"
      ]
     },
     "execution_count": 77,
     "metadata": {},
     "output_type": "execute_result"
    },
    {
     "data": {
      "image/png": "[encoded data removed]",
      "text/plain": [
       "<Figure size 500x500 with 1 Axes>"
      ]
     },
     "metadata": {},
     "output_type": "display_data"
    }
   ],
   "source": [
    "import matplotlib.pyplot as plt\n",
    "import seaborn as sns\n",
    "\n",
    "# Pie chart, where the slices will be ordered and plotted counter-clockwise:\n",
    "labels = {0, 1}\n",
    "sizes = [len(training_df[training_df.BotOrNot==0]), len(training_df[training_df.BotOrNot==1])]\n",
    "\n",
    "print(\"botlable:\", len(training_df[training_df.BotOrNot==0]), \"   personlable:\", len(training_df[training_df.BotOrNot==1]))\n",
    "\n",
    "fig1, ax1 = plt.subplots(figsize = (5,5))\n",
    "ax1.pie(sizes, labels=labels, autopct='%1.2f%%', \n",
    "        startangle=90,\n",
    "        colors=['b','r'])\n",
    "\n",
    "#ax1.axis('equal')  # Equal aspect ratio ensures that pie is drawn as a circle.\n",
    "\n",
    "text =  'Ratio of training data'\n",
    "ax1.set_title(text)"
   ]
  },
  {
   "cell_type": "code",
   "execution_count": 79,
   "id": "466ab0f5-0ca0-4fad-8101-613966324e15",
   "metadata": {},
   "outputs": [
    {
     "name": "stdout",
     "output_type": "stream",
     "text": [
      "botlable: 684    personlable: 994\n"
     ]
    },
    {
     "data": {
      "text/plain": [
       "Text(0.5, 1.0, 'Ratio of testing data')"
      ]
     },
     "execution_count": 79,
     "metadata": {},
     "output_type": "execute_result"
    },
    {
     "data": {
      "image/png": "[encoded data removed]",
      "text/plain": [
       "<Figure size 500x500 with 1 Axes>"
      ]
     },
     "metadata": {},
     "output_type": "display_data"
    }
   ],
   "source": [
    "# Pie chart, where the slices will be ordered and plotted counter-clockwise:\n",
    "labels = {0, 1}\n",
    "sizes = [len(test_df[test_df.BotOrNot==0]), len(test_df[test_df.BotOrNot==1])]\n",
    "\n",
    "print(\"botlable:\", len(test_df[test_df.BotOrNot==0]), \"   personlable:\", len(test_df[test_df.BotOrNot==1]))\n",
    "\n",
    "fig1, ax1 = plt.subplots(figsize = (5,5))\n",
    "ax1.pie(sizes, labels=labels, autopct='%1.2f%%', \n",
    "        startangle=90,\n",
    "        colors=['b','r'])\n",
    "\n",
    "#ax1.axis('equal')  # Equal aspect ratio ensures that pie is drawn as a circle.\n",
    "\n",
    "text =  'Ratio of testing data'\n",
    "ax1.set_title(text)"
   ]
  },
  {
   "cell_type": "markdown",
   "id": "d8248a26-5342-493e-be0c-6da92aec3e97",
   "metadata": {},
   "source": [
    "Back to code from the repo. No changes neccesary."
   ]
  },
  {
   "cell_type": "code",
   "execution_count": 85,
   "id": "1210f380-9692-4316-8807-5386b096876d",
   "metadata": {},
   "outputs": [],
   "source": [
    "X_train = training_df.drop(['BotOrNot', 'is_protected'], axis=1).values\n",
    "y_train = training_df['BotOrNot'].values.reshape(-1,1)\n",
    "\n",
    "X_test = test_df.drop(['BotOrNot', 'is_protected'], axis=1).values\n",
    "y_test = test_df['BotOrNot'].values.reshape(-1,1)"
   ]
  },
  {
   "cell_type": "code",
   "execution_count": 87,
   "id": "881e2d6b-3eed-4424-a41c-56fe40b9a298",
   "metadata": {},
   "outputs": [
    {
     "name": "stdout",
     "output_type": "stream",
     "text": [
      "Epoch 1/20\n",
      "\u001b[1m105/105\u001b[0m \u001b[32m━━━━━━━━━━━━━━━━━━━━\u001b[0m\u001b[37m\u001b[0m \u001b[1m1s\u001b[0m 4ms/step - accuracy: 0.9788 - loss: 0.0768 - val_accuracy: 0.9762 - val_loss: 0.0744\n",
      "Epoch 2/20\n",
      "\u001b[1m105/105\u001b[0m \u001b[32m━━━━━━━━━━━━━━━━━━━━\u001b[0m\u001b[37m\u001b[0m \u001b[1m0s\u001b[0m 2ms/step - accuracy: 0.9798 - loss: 0.0665 - val_accuracy: 0.9750 - val_loss: 0.0711\n",
      "Epoch 3/20\n",
      "\u001b[1m105/105\u001b[0m \u001b[32m━━━━━━━━━━━━━━━━━━━━\u001b[0m\u001b[37m\u001b[0m \u001b[1m0s\u001b[0m 2ms/step - accuracy: 0.9783 - loss: 0.0679 - val_accuracy: 0.9779 - val_loss: 0.0809\n",
      "Epoch 4/20\n",
      "\u001b[1m105/105\u001b[0m \u001b[32m━━━━━━━━━━━━━━━━━━━━\u001b[0m\u001b[37m\u001b[0m \u001b[1m0s\u001b[0m 3ms/step - accuracy: 0.9811 - loss: 0.0590 - val_accuracy: 0.9779 - val_loss: 0.0839\n",
      "Epoch 5/20\n",
      "\u001b[1m105/105\u001b[0m \u001b[32m━━━━━━━━━━━━━━━━━━━━\u001b[0m\u001b[37m\u001b[0m \u001b[1m0s\u001b[0m 2ms/step - accuracy: 0.9799 - loss: 0.0622 - val_accuracy: 0.9785 - val_loss: 0.0700\n",
      "Epoch 6/20\n",
      "\u001b[1m105/105\u001b[0m \u001b[32m━━━━━━━━━━━━━━━━━━━━\u001b[0m\u001b[37m\u001b[0m \u001b[1m0s\u001b[0m 2ms/step - accuracy: 0.9829 - loss: 0.0557 - val_accuracy: 0.9779 - val_loss: 0.0677\n",
      "Epoch 7/20\n",
      "\u001b[1m105/105\u001b[0m \u001b[32m━━━━━━━━━━━━━━━━━━━━\u001b[0m\u001b[37m\u001b[0m \u001b[1m0s\u001b[0m 2ms/step - accuracy: 0.9819 - loss: 0.0576 - val_accuracy: 0.9797 - val_loss: 0.0798\n",
      "Epoch 8/20\n",
      "\u001b[1m105/105\u001b[0m \u001b[32m━━━━━━━━━━━━━━━━━━━━\u001b[0m\u001b[37m\u001b[0m \u001b[1m0s\u001b[0m 2ms/step - accuracy: 0.9840 - loss: 0.0510 - val_accuracy: 0.9785 - val_loss: 0.0657\n",
      "Epoch 9/20\n",
      "\u001b[1m105/105\u001b[0m \u001b[32m━━━━━━━━━━━━━━━━━━━━\u001b[0m\u001b[37m\u001b[0m \u001b[1m0s\u001b[0m 2ms/step - accuracy: 0.9820 - loss: 0.0578 - val_accuracy: 0.9791 - val_loss: 0.0654\n",
      "Epoch 10/20\n",
      "\u001b[1m105/105\u001b[0m \u001b[32m━━━━━━━━━━━━━━━━━━━━\u001b[0m\u001b[37m\u001b[0m \u001b[1m0s\u001b[0m 3ms/step - accuracy: 0.9813 - loss: 0.0565 - val_accuracy: 0.9803 - val_loss: 0.0788\n",
      "Epoch 11/20\n",
      "\u001b[1m105/105\u001b[0m \u001b[32m━━━━━━━━━━━━━━━━━━━━\u001b[0m\u001b[37m\u001b[0m \u001b[1m0s\u001b[0m 2ms/step - accuracy: 0.9798 - loss: 0.0620 - val_accuracy: 0.9774 - val_loss: 0.0950\n",
      "Epoch 12/20\n",
      "\u001b[1m105/105\u001b[0m \u001b[32m━━━━━━━━━━━━━━━━━━━━\u001b[0m\u001b[37m\u001b[0m \u001b[1m0s\u001b[0m 3ms/step - accuracy: 0.9817 - loss: 0.0586 - val_accuracy: 0.9756 - val_loss: 0.0799\n",
      "Epoch 13/20\n",
      "\u001b[1m105/105\u001b[0m \u001b[32m━━━━━━━━━━━━━━━━━━━━\u001b[0m\u001b[37m\u001b[0m \u001b[1m0s\u001b[0m 3ms/step - accuracy: 0.9833 - loss: 0.0504 - val_accuracy: 0.9809 - val_loss: 0.0867\n",
      "Epoch 14/20\n",
      "\u001b[1m105/105\u001b[0m \u001b[32m━━━━━━━━━━━━━━━━━━━━\u001b[0m\u001b[37m\u001b[0m \u001b[1m0s\u001b[0m 3ms/step - accuracy: 0.9849 - loss: 0.0457 - val_accuracy: 0.9768 - val_loss: 0.0829\n",
      "Epoch 15/20\n",
      "\u001b[1m105/105\u001b[0m \u001b[32m━━━━━━━━━━━━━━━━━━━━\u001b[0m\u001b[37m\u001b[0m \u001b[1m0s\u001b[0m 3ms/step - accuracy: 0.9847 - loss: 0.0496 - val_accuracy: 0.9803 - val_loss: 0.0715\n",
      "Epoch 16/20\n",
      "\u001b[1m105/105\u001b[0m \u001b[32m━━━━━━━━━━━━━━━━━━━━\u001b[0m\u001b[37m\u001b[0m \u001b[1m0s\u001b[0m 3ms/step - accuracy: 0.9846 - loss: 0.0482 - val_accuracy: 0.9774 - val_loss: 0.1061\n",
      "Epoch 17/20\n",
      "\u001b[1m105/105\u001b[0m \u001b[32m━━━━━━━━━━━━━━━━━━━━\u001b[0m\u001b[37m\u001b[0m \u001b[1m0s\u001b[0m 3ms/step - accuracy: 0.9851 - loss: 0.0473 - val_accuracy: 0.9809 - val_loss: 0.0949\n",
      "Epoch 18/20\n",
      "\u001b[1m105/105\u001b[0m \u001b[32m━━━━━━━━━━━━━━━━━━━━\u001b[0m\u001b[37m\u001b[0m \u001b[1m0s\u001b[0m 2ms/step - accuracy: 0.9839 - loss: 0.0458 - val_accuracy: 0.9768 - val_loss: 0.0742\n",
      "Epoch 19/20\n",
      "\u001b[1m105/105\u001b[0m \u001b[32m━━━━━━━━━━━━━━━━━━━━\u001b[0m\u001b[37m\u001b[0m \u001b[1m0s\u001b[0m 2ms/step - accuracy: 0.9852 - loss: 0.0454 - val_accuracy: 0.9791 - val_loss: 0.0746\n",
      "Epoch 20/20\n",
      "\u001b[1m105/105\u001b[0m \u001b[32m━━━━━━━━━━━━━━━━━━━━\u001b[0m\u001b[37m\u001b[0m \u001b[1m0s\u001b[0m 2ms/step - accuracy: 0.9882 - loss: 0.0378 - val_accuracy: 0.9768 - val_loss: 0.0773\n"
     ]
    }
   ],
   "source": [
    "training = loaded_model.fit(x=X_train, y=y_train, batch_size=64, epochs=20, validation_data=(X_test, y_test))"
   ]
  },
  {
   "cell_type": "markdown",
   "id": "c518d850-0541-4916-8ad2-de292e0adf81",
   "metadata": {},
   "source": [
    "After this the rest of the code is me evaluating the model and getting results."
   ]
  },
  {
   "cell_type": "code",
   "execution_count": 89,
   "id": "1cf2f004-96d3-445e-badf-2eedb0a8472a",
   "metadata": {},
   "outputs": [
    {
     "name": "stdout",
     "output_type": "stream",
     "text": [
      "\u001b[1m53/53\u001b[0m \u001b[32m━━━━━━━━━━━━━━━━━━━━\u001b[0m\u001b[37m\u001b[0m \u001b[1m0s\u001b[0m 1ms/step - accuracy: 0.9705 - loss: 0.0844  \n",
      "test loss, test acc: [0.07728076726198196, 0.9767580628395081]\n"
     ]
    }
   ],
   "source": [
    "results = loaded_model.evaluate(X_test, y_test)\n",
    "print(\"test loss, test acc:\", results)"
   ]
  },
  {
   "cell_type": "code",
   "execution_count": 90,
   "id": "5b715bcc-96bb-4fb6-a672-1c1e5b681ac9",
   "metadata": {},
   "outputs": [
    {
     "name": "stdout",
     "output_type": "stream",
     "text": [
      "\u001b[1m53/53\u001b[0m \u001b[32m━━━━━━━━━━━━━━━━━━━━\u001b[0m\u001b[37m\u001b[0m \u001b[1m0s\u001b[0m 1ms/step\n",
      "[0.9999778  0.99997634 0.99997354 ... 0.99483854 0.99997514 0.9999746 ]\n",
      "[1 1 1 ... 1 1 1]\n"
     ]
    }
   ],
   "source": [
    "prediction = loaded_model.predict(X_test).ravel()\n",
    "\n",
    "print(prediction)\n",
    "print(y_test.ravel())"
   ]
  },
  {
   "cell_type": "code",
   "execution_count": 91,
   "id": "5182b9ef-fb0a-4a86-a6d7-13af669e9f55",
   "metadata": {},
   "outputs": [
    {
     "name": "stdout",
     "output_type": "stream",
     "text": [
      "[1 1 1 ... 1 1 1]\n"
     ]
    }
   ],
   "source": [
    "from sklearn.metrics import classification_report\n",
    "from sklearn.metrics import confusion_matrix\n",
    "from sklearn import metrics\n",
    "print(y_test.ravel())\n",
    "fpr, tpr, _ = metrics.roc_curve(y_test.ravel(), prediction)"
   ]
  },
  {
   "cell_type": "code",
   "execution_count": 92,
   "id": "48a42bf3-91b6-464d-b1d0-023f83db7dd8",
   "metadata": {},
   "outputs": [
    {
     "data": {
      "image/png": "[encoded data removed]",
      "text/plain": [
       "<Figure size 640x480 with 1 Axes>"
      ]
     },
     "metadata": {},
     "output_type": "display_data"
    }
   ],
   "source": [
    "plt.plot(\n",
    "    fpr,\n",
    "    tpr,\n",
    "    color= \"g\",\n",
    "    lw=1,\n",
    "    label= \"AUC_Balanced\",\n",
    ")\n",
    "plt.plot([0, 1], [0, 1], color=\"r\", lw=1, linestyle=\"--\")\n",
    "plt.xlim([0.0, 1.0])\n",
    "plt.ylim([0.0, 1.05])\n",
    "plt.xlabel(\"False Positive Rate\")\n",
    "plt.ylabel(\"True Positive Rate\")\n",
    "plt.title(\"ROC curve.\")\n",
    "plt.legend(loc=\"lower right\")\n",
    "plt.show()"
   ]
  }
 ],
 "metadata": {
  "kernelspec": {
   "display_name": "Python [conda env:base] *",
   "language": "python",
   "name": "conda-base-py"
  },
  "language_info": {
   "codemirror_mode": {
    "name": "ipython",
    "version": 3
   },
   "file_extension": ".py",
   "mimetype": "text/x-python",
   "name": "python",
   "nbconvert_exporter": "python",
   "pygments_lexer": "ipython3",
   "version": "3.12.9"
  }
 },
 "nbformat": 4,
 "nbformat_minor": 5
}
