{
  "cells": [
    {
      "cell_type": "code",
      "execution_count": 49,
      "metadata": {
        "id": "RuxtNxZxrZLx"
      },
      "outputs": [],
      "source": [
        "import pandas as pd\n",
        "import numpy as np\n",
        "import math\n",
        "import matplotlib.pyplot as plt\n",
        "from sklearn.preprocessing import StandardScaler\n",
        "from tensorflow.keras.models import load_model\n",
        "from tensorflow.keras.layers import Input, Dense, Dropout, BatchNormalization\n",
        "from tensorflow.keras.models import Model\n",
        "from tensorflow.keras.optimizers import Adam\n",
        "from sklearn.metrics import confusion_matrix, classification_report\n",
        "from tensorflow.keras.preprocessing.text import Tokenizer\n",
        "from tensorflow.keras.preprocessing.sequence import pad_sequences\n",
        "\n",
        "bot_paths = [\n",
        "    'data/social_spambots_1.csv',\n",
        "    'data/social_spambots_2.csv',\n",
        "    'data/social_spambots_3.csv'\n",
        "]\n",
        "\n",
        "bot_accounts = pd.concat([pd.read_csv(path) for path in bot_paths], ignore_index=True)\n",
        "clean_accounts = pd.read_csv('data/geniune_accounts.csv')"
      ]
    },
    {
      "cell_type": "code",
      "execution_count": 50,
      "metadata": {
        "scrolled": true,
        "colab": {
          "base_uri": "https://localhost:8080/"
        },
        "id": "zp_QWCiVrZLy",
        "outputId": "1ce283fb-6d8b-4080-c2ed-bacc70de00ef"
      },
      "outputs": [
        {
          "output_type": "stream",
          "name": "stdout",
          "text": [
            "Raw Bot Columns: Index(['id', 'name', 'screen_name', 'statuses_count', 'followers_count',\n",
            "       'friends_count', 'favourites_count', 'listed_count', 'url', 'lang',\n",
            "       'time_zone', 'location', 'default_profile', 'default_profile_image',\n",
            "       'geo_enabled', 'profile_image_url', 'profile_banner_url',\n",
            "       'profile_use_background_image', 'profile_background_image_url_https',\n",
            "       'profile_text_color', 'profile_image_url_https',\n",
            "       'profile_sidebar_border_color', 'profile_background_tile',\n",
            "       'profile_sidebar_fill_color', 'profile_background_image_url',\n",
            "       'profile_background_color', 'profile_link_color', 'utc_offset',\n",
            "       'is_translator', 'follow_request_sent', 'protected', 'verified',\n",
            "       'notifications', 'description', 'contributors_enabled', 'following',\n",
            "       'created_at', 'timestamp', 'crawled_at', 'updated', 'test_set_1',\n",
            "       'test_set_2'],\n",
            "      dtype='object')\n",
            "Raw Clean Columns: Index(['id', 'name', 'screen_name', 'statuses_count', 'followers_count',\n",
            "       'friends_count', 'favourites_count', 'listed_count', 'url', 'lang',\n",
            "       'time_zone', 'location', 'default_profile', 'default_profile_image',\n",
            "       'geo_enabled', 'profile_image_url', 'profile_banner_url',\n",
            "       'profile_use_background_image', 'profile_background_image_url_https',\n",
            "       'profile_text_color', 'profile_image_url_https',\n",
            "       'profile_sidebar_border_color', 'profile_background_tile',\n",
            "       'profile_sidebar_fill_color', 'profile_background_image_url',\n",
            "       'profile_background_color', 'profile_link_color', 'utc_offset',\n",
            "       'is_translator', 'follow_request_sent', 'protected', 'verified',\n",
            "       'notifications', 'description', 'contributors_enabled', 'following',\n",
            "       'created_at', 'timestamp', 'crawled_at', 'updated', 'test_set_1',\n",
            "       'test_set_2'],\n",
            "      dtype='object')\n"
          ]
        },
        {
          "output_type": "stream",
          "name": "stderr",
          "text": [
            "<ipython-input-50-83ba92fe74d3>:20: UserWarning: Could not infer format, so each element will be parsed individually, falling back to `dateutil`. To ensure parsing is consistent and as-expected, please specify a format.\n",
            "  df['created_at'] = pd.to_datetime(df['created_at'], utc=True, errors='coerce')\n",
            "<ipython-input-50-83ba92fe74d3>:20: UserWarning: Could not infer format, so each element will be parsed individually, falling back to `dateutil`. To ensure parsing is consistent and as-expected, please specify a format.\n",
            "  df['created_at'] = pd.to_datetime(df['created_at'], utc=True, errors='coerce')\n"
          ]
        },
        {
          "output_type": "stream",
          "name": "stdout",
          "text": [
            "Cleaned Bot Accounts Columns: Index(['username', 'age', 'has_location', 'is_verified', 'total_tweets',\n",
            "       'total_following', 'total_followers', 'total_likes', 'has_avatar',\n",
            "       'has_background', 'is_protected', 'profile_modified'],\n",
            "      dtype='object')\n",
            "Cleaned Clean Accounts Columns: Index(['username', 'age', 'has_location', 'is_verified', 'total_tweets',\n",
            "       'total_following', 'total_followers', 'total_likes', 'has_avatar',\n",
            "       'has_background', 'is_protected', 'profile_modified'],\n",
            "      dtype='object')\n"
          ]
        }
      ],
      "source": [
        "REQUIRED_COLUMNS = [\n",
        "    'screen_name', 'created_at', 'updated', 'location', 'verified',\n",
        "    'statuses_count', 'friends_count', 'followers_count', 'favourites_count',\n",
        "    'default_profile_image', 'profile_use_background_image',\n",
        "    'protected', 'default_profile'\n",
        "]\n",
        "\n",
        "raw_bot_accounts = pd.concat([\n",
        "    pd.read_csv('data/social_spambots_1.csv'),\n",
        "    pd.read_csv('data/social_spambots_2.csv'),\n",
        "    pd.read_csv('data/social_spambots_3.csv')\n",
        "], ignore_index=True)\n",
        "\n",
        "raw_clean_accounts = pd.read_csv('data/geniune_accounts.csv')\n",
        "\n",
        "print(\"Raw Bot Columns:\", raw_bot_accounts.columns)\n",
        "print(\"Raw Clean Columns:\", raw_clean_accounts.columns)\n",
        "\n",
        "def clean_df(df):\n",
        "    df['created_at'] = pd.to_datetime(df['created_at'], utc=True, errors='coerce')\n",
        "    df['updated'] = pd.to_datetime(df['updated'], utc=True, errors='coerce')\n",
        "    df['age'] = (df['updated'] - df['created_at']).dt.days\n",
        "\n",
        "    df['has_location'] = df['location'].notna().astype(int)\n",
        "    df['has_avatar'] = df['default_profile_image'].notna().astype(int)\n",
        "    df['has_background'] = df['profile_use_background_image'].notna().astype(int)\n",
        "    df['is_verified'] = df['verified'].notna().astype(int)\n",
        "    df['is_protected'] = df['protected'].notna().astype(int)\n",
        "    df['profile_modified'] = df['default_profile'].notna().astype(int)\n",
        "\n",
        "    df = df.rename(columns={\n",
        "        \"screen_name\": \"username\",\n",
        "        \"statuses_count\": \"total_tweets\",\n",
        "        \"friends_count\": \"total_following\",\n",
        "        \"followers_count\": \"total_followers\",\n",
        "        \"favourites_count\": \"total_likes\"\n",
        "    })\n",
        "\n",
        "    return df[[\n",
        "        'username', 'age', 'has_location', 'is_verified',\n",
        "        'total_tweets', 'total_following', 'total_followers', 'total_likes',\n",
        "        'has_avatar', 'has_background', 'is_protected', 'profile_modified'\n",
        "    ]]\n",
        "\n",
        "bot_accounts = clean_df(raw_bot_accounts)\n",
        "clean_accounts = clean_df(raw_clean_accounts)\n",
        "\n",
        "print(\"Cleaned Bot Accounts Columns:\", bot_accounts.columns)\n",
        "print(\"Cleaned Clean Accounts Columns:\", clean_accounts.columns)\n"
      ]
    },
    {
      "cell_type": "code",
      "execution_count": 51,
      "metadata": {
        "colab": {
          "base_uri": "https://localhost:8080/"
        },
        "id": "muRF2GoVrZLz",
        "outputId": "26a78a65-6367-4ac1-e00c-6ad04b2e2d0b"
      },
      "outputs": [
        {
          "output_type": "stream",
          "name": "stderr",
          "text": [
            "<ipython-input-50-83ba92fe74d3>:20: UserWarning: Could not infer format, so each element will be parsed individually, falling back to `dateutil`. To ensure parsing is consistent and as-expected, please specify a format.\n",
            "  df['created_at'] = pd.to_datetime(df['created_at'], utc=True, errors='coerce')\n",
            "<ipython-input-50-83ba92fe74d3>:20: UserWarning: Could not infer format, so each element will be parsed individually, falling back to `dateutil`. To ensure parsing is consistent and as-expected, please specify a format.\n",
            "  df['created_at'] = pd.to_datetime(df['created_at'], utc=True, errors='coerce')\n"
          ]
        }
      ],
      "source": [
        "# Load RAW datasets\n",
        "raw_bot_accounts = pd.concat([\n",
        "    pd.read_csv('data/social_spambots_1.csv'),\n",
        "    pd.read_csv('data/social_spambots_2.csv'),\n",
        "    pd.read_csv('data/social_spambots_3.csv')\n",
        "], ignore_index=True)\n",
        "\n",
        "raw_clean_accounts = pd.read_csv('data/geniune_accounts.csv')\n",
        "\n",
        "# Clean data\n",
        "bot_accounts = clean_df(raw_bot_accounts)\n",
        "clean_accounts = clean_df(raw_clean_accounts)\n",
        "\n",
        "# Labels\n",
        "bot_accounts['BotOrNot'] = 1\n",
        "clean_accounts['BotOrNot'] = 0\n",
        "\n",
        "combined_df = pd.concat([bot_accounts, clean_accounts], ignore_index=True)\n"
      ]
    },
    {
      "cell_type": "code",
      "execution_count": 52,
      "metadata": {
        "collapsed": true,
        "id": "5OwNDy1vrZL0"
      },
      "outputs": [],
      "source": [
        "combined_df = combined_df.sample(frac=1, random_state=42).reset_index(drop=True)\n",
        "train_size = int(0.8 * len(combined_df))\n",
        "\n",
        "train_df = combined_df.iloc[:train_size].drop('username', axis=1)\n",
        "test_df = combined_df.iloc[train_size:].drop('username', axis=1)\n",
        "\n",
        "columns_to_scale = ['age', 'total_tweets', 'total_following', 'total_followers', 'total_likes']\n",
        "mean_vals = train_df[columns_to_scale].mean()\n",
        "std_vals = train_df[columns_to_scale].std()\n",
        "\n",
        "train_df[columns_to_scale] = (train_df[columns_to_scale] - mean_vals) / std_vals\n",
        "test_df[columns_to_scale] = (test_df[columns_to_scale] - mean_vals) / std_vals"
      ]
    },
    {
      "cell_type": "code",
      "execution_count": 53,
      "metadata": {
        "collapsed": true,
        "id": "KMEalkxdrZL0"
      },
      "outputs": [],
      "source": [
        "X_train = train_df.drop(['BotOrNot', 'is_protected'], axis=1).values\n",
        "y_train = train_df['BotOrNot'].values.reshape(-1, 1)\n",
        "\n",
        "X_test = test_df.drop(['BotOrNot', 'is_protected'], axis=1).values\n",
        "y_test = test_df['BotOrNot'].values.reshape(-1, 1)"
      ]
    },
    {
      "cell_type": "code",
      "execution_count": 54,
      "metadata": {
        "collapsed": true,
        "id": "Xy6mCm0xrZL0"
      },
      "outputs": [],
      "source": [
        "inp = Input(shape=(X_train.shape[1],))\n",
        "x = Dense(128, activation='relu')(inp)\n",
        "x = BatchNormalization()(x)\n",
        "x = Dropout(0.3)(x)\n",
        "\n",
        "x = Dense(64, activation='relu')(x)\n",
        "x = Dropout(0.3)(x)\n",
        "\n",
        "out = Dense(1, activation='sigmoid')(x)\n",
        "model = Model(inputs=inp, outputs=out)\n",
        "\n",
        "model.compile(optimizer=Adam(learning_rate=0.001), loss='binary_crossentropy', metrics=['accuracy'])"
      ]
    },
    {
      "cell_type": "code",
      "execution_count": 55,
      "metadata": {
        "colab": {
          "base_uri": "https://localhost:8080/"
        },
        "id": "i7VYvrMurZL0",
        "outputId": "5cad19fb-649e-4c35-9e85-6ad05bf887c2"
      },
      "outputs": [
        {
          "output_type": "stream",
          "name": "stdout",
          "text": [
            "Epoch 1/20\n",
            "\u001b[1m105/105\u001b[0m \u001b[32m━━━━━━━━━━━━━━━━━━━━\u001b[0m\u001b[37m\u001b[0m \u001b[1m3s\u001b[0m 8ms/step - accuracy: 0.7771 - loss: 0.4360 - val_accuracy: 0.9482 - val_loss: 0.4038\n",
            "Epoch 2/20\n",
            "\u001b[1m105/105\u001b[0m \u001b[32m━━━━━━━━━━━━━━━━━━━━\u001b[0m\u001b[37m\u001b[0m \u001b[1m1s\u001b[0m 3ms/step - accuracy: 0.9375 - loss: 0.1684 - val_accuracy: 0.9648 - val_loss: 0.2769\n",
            "Epoch 3/20\n",
            "\u001b[1m105/105\u001b[0m \u001b[32m━━━━━━━━━━━━━━━━━━━━\u001b[0m\u001b[37m\u001b[0m \u001b[1m1s\u001b[0m 3ms/step - accuracy: 0.9560 - loss: 0.1394 - val_accuracy: 0.9654 - val_loss: 0.1835\n",
            "Epoch 4/20\n",
            "\u001b[1m105/105\u001b[0m \u001b[32m━━━━━━━━━━━━━━━━━━━━\u001b[0m\u001b[37m\u001b[0m \u001b[1m1s\u001b[0m 3ms/step - accuracy: 0.9574 - loss: 0.1255 - val_accuracy: 0.9779 - val_loss: 0.1409\n",
            "Epoch 5/20\n",
            "\u001b[1m105/105\u001b[0m \u001b[32m━━━━━━━━━━━━━━━━━━━━\u001b[0m\u001b[37m\u001b[0m \u001b[1m0s\u001b[0m 3ms/step - accuracy: 0.9594 - loss: 0.1173 - val_accuracy: 0.9785 - val_loss: 0.1119\n",
            "Epoch 6/20\n",
            "\u001b[1m105/105\u001b[0m \u001b[32m━━━━━━━━━━━━━━━━━━━━\u001b[0m\u001b[37m\u001b[0m \u001b[1m0s\u001b[0m 3ms/step - accuracy: 0.9672 - loss: 0.1045 - val_accuracy: 0.9803 - val_loss: 0.0853\n",
            "Epoch 7/20\n",
            "\u001b[1m105/105\u001b[0m \u001b[32m━━━━━━━━━━━━━━━━━━━━\u001b[0m\u001b[37m\u001b[0m \u001b[1m1s\u001b[0m 3ms/step - accuracy: 0.9676 - loss: 0.1003 - val_accuracy: 0.9791 - val_loss: 0.0868\n",
            "Epoch 8/20\n",
            "\u001b[1m105/105\u001b[0m \u001b[32m━━━━━━━━━━━━━━━━━━━━\u001b[0m\u001b[37m\u001b[0m \u001b[1m1s\u001b[0m 3ms/step - accuracy: 0.9682 - loss: 0.0932 - val_accuracy: 0.9768 - val_loss: 0.0827\n",
            "Epoch 9/20\n",
            "\u001b[1m105/105\u001b[0m \u001b[32m━━━━━━━━━━━━━━━━━━━━\u001b[0m\u001b[37m\u001b[0m \u001b[1m1s\u001b[0m 4ms/step - accuracy: 0.9728 - loss: 0.0864 - val_accuracy: 0.9779 - val_loss: 0.0940\n",
            "Epoch 10/20\n",
            "\u001b[1m105/105\u001b[0m \u001b[32m━━━━━━━━━━━━━━━━━━━━\u001b[0m\u001b[37m\u001b[0m \u001b[1m1s\u001b[0m 3ms/step - accuracy: 0.9754 - loss: 0.0866 - val_accuracy: 0.9732 - val_loss: 0.0733\n",
            "Epoch 11/20\n",
            "\u001b[1m105/105\u001b[0m \u001b[32m━━━━━━━━━━━━━━━━━━━━\u001b[0m\u001b[37m\u001b[0m \u001b[1m1s\u001b[0m 3ms/step - accuracy: 0.9693 - loss: 0.0843 - val_accuracy: 0.9774 - val_loss: 0.0696\n",
            "Epoch 12/20\n",
            "\u001b[1m105/105\u001b[0m \u001b[32m━━━━━━━━━━━━━━━━━━━━\u001b[0m\u001b[37m\u001b[0m \u001b[1m0s\u001b[0m 3ms/step - accuracy: 0.9722 - loss: 0.0815 - val_accuracy: 0.9797 - val_loss: 0.0651\n",
            "Epoch 13/20\n",
            "\u001b[1m105/105\u001b[0m \u001b[32m━━━━━━━━━━━━━━━━━━━━\u001b[0m\u001b[37m\u001b[0m \u001b[1m1s\u001b[0m 3ms/step - accuracy: 0.9711 - loss: 0.0815 - val_accuracy: 0.9809 - val_loss: 0.0653\n",
            "Epoch 14/20\n",
            "\u001b[1m105/105\u001b[0m \u001b[32m━━━━━━━━━━━━━━━━━━━━\u001b[0m\u001b[37m\u001b[0m \u001b[1m1s\u001b[0m 3ms/step - accuracy: 0.9766 - loss: 0.0695 - val_accuracy: 0.9809 - val_loss: 0.0658\n",
            "Epoch 15/20\n",
            "\u001b[1m105/105\u001b[0m \u001b[32m━━━━━━━━━━━━━━━━━━━━\u001b[0m\u001b[37m\u001b[0m \u001b[1m1s\u001b[0m 3ms/step - accuracy: 0.9746 - loss: 0.0839 - val_accuracy: 0.9827 - val_loss: 0.0630\n",
            "Epoch 16/20\n",
            "\u001b[1m105/105\u001b[0m \u001b[32m━━━━━━━━━━━━━━━━━━━━\u001b[0m\u001b[37m\u001b[0m \u001b[1m1s\u001b[0m 3ms/step - accuracy: 0.9752 - loss: 0.0809 - val_accuracy: 0.9779 - val_loss: 0.0675\n",
            "Epoch 17/20\n",
            "\u001b[1m105/105\u001b[0m \u001b[32m━━━━━━━━━━━━━━━━━━━━\u001b[0m\u001b[37m\u001b[0m \u001b[1m1s\u001b[0m 3ms/step - accuracy: 0.9733 - loss: 0.0787 - val_accuracy: 0.9779 - val_loss: 0.0650\n",
            "Epoch 18/20\n",
            "\u001b[1m105/105\u001b[0m \u001b[32m━━━━━━━━━━━━━━━━━━━━\u001b[0m\u001b[37m\u001b[0m \u001b[1m0s\u001b[0m 3ms/step - accuracy: 0.9768 - loss: 0.0715 - val_accuracy: 0.9827 - val_loss: 0.0594\n",
            "Epoch 19/20\n",
            "\u001b[1m105/105\u001b[0m \u001b[32m━━━━━━━━━━━━━━━━━━━━\u001b[0m\u001b[37m\u001b[0m \u001b[1m0s\u001b[0m 4ms/step - accuracy: 0.9769 - loss: 0.0783 - val_accuracy: 0.9827 - val_loss: 0.0624\n",
            "Epoch 20/20\n",
            "\u001b[1m105/105\u001b[0m \u001b[32m━━━━━━━━━━━━━━━━━━━━\u001b[0m\u001b[37m\u001b[0m \u001b[1m1s\u001b[0m 5ms/step - accuracy: 0.9719 - loss: 0.0783 - val_accuracy: 0.9821 - val_loss: 0.0615\n",
            "\u001b[1m53/53\u001b[0m \u001b[32m━━━━━━━━━━━━━━━━━━━━\u001b[0m\u001b[37m\u001b[0m \u001b[1m0s\u001b[0m 3ms/step\n",
            "\n",
            "Confusion Matrix:\n",
            "[[689  13]\n",
            " [ 17 959]]\n",
            "\n",
            "Classification Report:\n",
            "              precision    recall  f1-score   support\n",
            "\n",
            "           0       0.98      0.98      0.98       702\n",
            "           1       0.99      0.98      0.98       976\n",
            "\n",
            "    accuracy                           0.98      1678\n",
            "   macro avg       0.98      0.98      0.98      1678\n",
            "weighted avg       0.98      0.98      0.98      1678\n",
            "\n"
          ]
        }
      ],
      "source": [
        "history = model.fit(X_train, y_train, epochs=20, batch_size=64, validation_data=(X_test, y_test))\n",
        "\n",
        "predictions = (model.predict(X_test) > 0.5).astype(\"int32\")\n",
        "\n",
        "print(\"\\n CONFUSION MATRIX:\")\n",
        "print(confusion_matrix(y_test, predictions))\n",
        "\n",
        "print(\"\\n CLASSIFCIATION REPORT:\")\n",
        "print(classification_report(y_test, predictions))"
      ]
    },
    {
      "cell_type": "code",
      "execution_count": 56,
      "metadata": {
        "collapsed": true,
        "colab": {
          "base_uri": "https://localhost:8080/",
          "height": 472
        },
        "id": "Zj0rlnRurZL1",
        "outputId": "d5ff283d-3965-4f9a-dc80-99a231eb8838"
      },
      "outputs": [
        {
          "output_type": "display_data",
          "data": {
            "text/plain": [
              "<Figure size 640x480 with 1 Axes>"
            ],
            "image/png": "[encoded data removed]"
          },
          "metadata": {}
        }
      ],
      "source": [
        "plt.plot(history.history['accuracy'], label='Train Accuracy')\n",
        "plt.plot(history.history['val_accuracy'], label='Validation Accuracy')\n",
        "plt.title('Model Accuracy')\n",
        "plt.xlabel('Epoch')\n",
        "plt.ylabel('Accuracy')\n",
        "plt.legend()\n",
        "plt.grid(True)\n",
        "plt.show()"
      ]
    },
    {
      "cell_type": "code",
      "execution_count": 57,
      "metadata": {
        "collapsed": true,
        "colab": {
          "base_uri": "https://localhost:8080/"
        },
        "id": "six3m2PDrZL0",
        "outputId": "69a2b50d-1981-4689-cb14-5943dfdc6d51"
      },
      "outputs": [
        {
          "output_type": "stream",
          "name": "stderr",
          "text": [
            "WARNING:absl:You are saving your model as an HDF5 file via `model.save()` or `keras.saving.save_model(model)`. This file format is considered legacy. We recommend using instead the native Keras format, e.g. `model.save('my_model.keras')` or `keras.saving.save_model(model, 'my_model.keras')`. \n"
          ]
        }
      ],
      "source": [
        "model.save(\"my_model.h5\")"
      ]
    },
    {
      "cell_type": "markdown",
      "source": [
        "# **Domain Adaptation For 2015 twitter bot data!!!!**"
      ],
      "metadata": {
        "id": "rRjxowQlg9QM"
      }
    },
    {
      "cell_type": "code",
      "source": [
        "import os\n",
        "os.listdir()"
      ],
      "metadata": {
        "colab": {
          "base_uri": "https://localhost:8080/"
        },
        "id": "LRsfeBQce-jj",
        "outputId": "ee9974a5-3143-4599-cbce-4539f00b381e"
      },
      "execution_count": 58,
      "outputs": [
        {
          "output_type": "execute_result",
          "data": {
            "text/plain": [
              "['.config',\n",
              " 'my_model_2015adapt.h5',\n",
              " 'deep_model_finetuned.h5',\n",
              " 'tweets.csv',\n",
              " 'data',\n",
              " 'friends.csv',\n",
              " '.ipynb_checkpoints',\n",
              " 'users.csv',\n",
              " 'followers.csv',\n",
              " 'my_model.h5',\n",
              " 'sample_data']"
            ]
          },
          "metadata": {},
          "execution_count": 58
        }
      ]
    },
    {
      "cell_type": "code",
      "source": [
        "import pandas as pd\n",
        "import numpy as np\n",
        "from sklearn.preprocessing import StandardScaler\n",
        "from tensorflow.keras.models import load_model\n",
        "\n",
        "# THESE ARE THE NEW 2015 DATA, Loads new domain data\n",
        "users_df = pd.read_csv(\"users.csv\")\n",
        "tweets_df = pd.read_csv(\"tweets.csv\", encoding=\"ISO-8859-1\")\n",
        "followers_df = pd.read_csv(\"followers.csv\", encoding=\"ISO-8859-1\")\n",
        "friends_df = pd.read_csv(\"friends.csv\", encoding=\"ISO-8859-1\")\n",
        "\n",
        "#Feature Engineering\n",
        "#Aggregate tweet features\n",
        "tweet_features = tweets_df.groupby(\"user_id\").agg({\n",
        "    \"text\": lambda x: x.str.len().mean(),\n",
        "    \"num_hashtags\": \"mean\",\n",
        "    \"num_urls\": \"mean\",\n",
        "    \"num_mentions\": \"mean\",\n",
        "    \"retweet_count\": \"mean\",\n",
        "    \"reply_count\": \"mean\",\n",
        "    \"favorite_count\": \"mean\"\n",
        "}).rename(columns={\n",
        "    \"text\": \"avg_tweet_length\",\n",
        "    \"num_hashtags\": \"avg_hashtags\",\n",
        "    \"num_urls\": \"avg_urls\",\n",
        "    \"num_mentions\": \"avg_mentions\",\n",
        "    \"retweet_count\": \"avg_retweets\",\n",
        "    \"reply_count\": \"avg_replies\",\n",
        "    \"favorite_count\": \"avg_likes\"\n",
        "})\n",
        "\n",
        "# Social graph features\n",
        "follower_counts = followers_df[\"target_id\"].value_counts().rename(\"total_followers\")\n",
        "friend_counts = friends_df[\"source_id\"].value_counts().rename(\"total_following\")\n",
        "graph_features = pd.concat([follower_counts, friend_counts], axis=1).fillna(0)\n",
        "\n",
        "# Clean user profile features to match original model, Merges all features with user profile data into one thing\n",
        "users_df[\"created_at\"] = pd.to_datetime(users_df[\"created_at\"], errors=\"coerce\", utc=True)\n",
        "users_df[\"updated\"] = pd.to_datetime(users_df[\"updated\"], errors=\"coerce\", utc=True)\n",
        "users_df[\"age\"] = (users_df[\"updated\"] - users_df[\"created_at\"]).dt.days\n",
        "\n",
        "users_df[\"has_location\"] = users_df[\"location\"].notna().astype(int)\n",
        "users_df[\"has_avatar\"] = users_df[\"default_profile_image\"].notna().astype(int)\n",
        "users_df[\"has_background\"] = users_df[\"profile_use_background_image\"].notna().astype(int)\n",
        "users_df[\"is_verified\"] = users_df[\"verified\"].notna().astype(int)\n",
        "users_df[\"is_protected\"] = users_df[\"protected\"].notna().astype(int)\n",
        "users_df[\"profile_modified\"] = users_df[\"default_profile\"].notna().astype(int)\n",
        "\n",
        "users_df = users_df.rename(columns={\n",
        "    \"statuses_count\": \"total_tweets\",\n",
        "    \"favourites_count\": \"total_likes\"\n",
        "})\n",
        "\n",
        "#The MERGE\n",
        "users_df = users_df.set_index(\"id\")\n",
        "merged = users_df.join(graph_features)\n",
        "\n",
        "# Selected features out of tah 32 to use\n",
        "selected_features = [\n",
        "    'age', 'has_location', 'is_verified', 'total_tweets',\n",
        "    'total_following', 'total_followers', 'total_likes',\n",
        "    'has_avatar', 'has_background', 'is_protected'  # ←----now 10 features\n",
        "]\n",
        "\n",
        "\n",
        "new_domain_data = merged[selected_features].fillna(0)\n",
        "\n",
        "# Scale and predict\n",
        "scaler = StandardScaler()\n",
        "X_new_scaled = scaler.fit_transform(new_domain_data)\n",
        "\n",
        "# Load model and predict pseudo-labels\n",
        "model = load_model(\"my_model.h5\")\n",
        "pseudo_probs = model.predict(X_new_scaled)\n",
        "pseudo_labels = (pseudo_probs > 0.5).astype(int)\n",
        "\n",
        "# Combine and fine-tune\n",
        "X_adapted = np.vstack([X_train, X_new_scaled])\n",
        "pseudo_labels = pseudo_labels.reshape(-1, 1)  # make it 2D\n",
        "y_adapted = np.vstack([y_train, pseudo_labels])\n",
        "\n",
        "model.compile(optimizer=\"adam\", loss=\"binary_crossentropy\", metrics=[\"accuracy\"])\n",
        "history = model.fit(X_adapted, y_adapted, epochs=20, batch_size=64, validation_split=0.2)\n",
        "\n",
        "plt.plot(history.history['accuracy'], label='Train Accuracy')\n",
        "plt.plot(history.history['val_accuracy'], label='Validation Accuracy')\n",
        "plt.title('Model Accuracy')\n",
        "plt.xlabel('Epoch')\n",
        "plt.ylabel('Accuracy')\n",
        "plt.legend()\n",
        "plt.grid(True)\n",
        "plt.show()\n",
        "\n",
        "\n",
        "# Saves it\n",
        "model.save(\"my_model_2015adapt.h5\")"
      ],
      "metadata": {
        "colab": {
          "base_uri": "https://localhost:8080/",
          "height": 1000
        },
        "id": "RgH7g_OBf3-R",
        "outputId": "88dbdc6e-6310-42b9-f7dd-34c42c07e748"
      },
      "execution_count": 61,
      "outputs": [
        {
          "output_type": "stream",
          "name": "stderr",
          "text": [
            "<ipython-input-61-395923e4dae0>:38: UserWarning: Could not infer format, so each element will be parsed individually, falling back to `dateutil`. To ensure parsing is consistent and as-expected, please specify a format.\n",
            "  users_df[\"created_at\"] = pd.to_datetime(users_df[\"created_at\"], errors=\"coerce\", utc=True)\n",
            "WARNING:absl:Compiled the loaded model, but the compiled metrics have yet to be built. `model.compile_metrics` will be empty until you train or evaluate the model.\n"
          ]
        },
        {
          "output_type": "stream",
          "name": "stdout",
          "text": [
            "\u001b[1m27/27\u001b[0m \u001b[32m━━━━━━━━━━━━━━━━━━━━\u001b[0m\u001b[37m\u001b[0m \u001b[1m0s\u001b[0m 4ms/step\n",
            "Epoch 1/20\n",
            "\u001b[1m95/95\u001b[0m \u001b[32m━━━━━━━━━━━━━━━━━━━━\u001b[0m\u001b[37m\u001b[0m \u001b[1m3s\u001b[0m 5ms/step - accuracy: 0.9779 - loss: 0.0687 - val_accuracy: 0.9854 - val_loss: 0.0678\n",
            "Epoch 2/20\n",
            "\u001b[1m95/95\u001b[0m \u001b[32m━━━━━━━━━━━━━━━━━━━━\u001b[0m\u001b[37m\u001b[0m \u001b[1m0s\u001b[0m 3ms/step - accuracy: 0.9783 - loss: 0.0697 - val_accuracy: 0.9868 - val_loss: 0.0648\n",
            "Epoch 3/20\n",
            "\u001b[1m95/95\u001b[0m \u001b[32m━━━━━━━━━━━━━━━━━━━━\u001b[0m\u001b[37m\u001b[0m \u001b[1m0s\u001b[0m 3ms/step - accuracy: 0.9786 - loss: 0.0640 - val_accuracy: 0.9848 - val_loss: 0.0686\n",
            "Epoch 4/20\n",
            "\u001b[1m95/95\u001b[0m \u001b[32m━━━━━━━━━━━━━━━━━━━━\u001b[0m\u001b[37m\u001b[0m \u001b[1m1s\u001b[0m 3ms/step - accuracy: 0.9781 - loss: 0.0707 - val_accuracy: 0.9709 - val_loss: 0.0758\n",
            "Epoch 5/20\n",
            "\u001b[1m95/95\u001b[0m \u001b[32m━━━━━━━━━━━━━━━━━━━━\u001b[0m\u001b[37m\u001b[0m \u001b[1m0s\u001b[0m 3ms/step - accuracy: 0.9830 - loss: 0.0609 - val_accuracy: 0.9749 - val_loss: 0.0775\n",
            "Epoch 6/20\n",
            "\u001b[1m95/95\u001b[0m \u001b[32m━━━━━━━━━━━━━━━━━━━━\u001b[0m\u001b[37m\u001b[0m \u001b[1m0s\u001b[0m 3ms/step - accuracy: 0.9800 - loss: 0.0601 - val_accuracy: 0.9742 - val_loss: 0.0751\n",
            "Epoch 7/20\n",
            "\u001b[1m95/95\u001b[0m \u001b[32m━━━━━━━━━━━━━━━━━━━━\u001b[0m\u001b[37m\u001b[0m \u001b[1m0s\u001b[0m 3ms/step - accuracy: 0.9792 - loss: 0.0652 - val_accuracy: 0.9828 - val_loss: 0.0659\n",
            "Epoch 8/20\n",
            "\u001b[1m95/95\u001b[0m \u001b[32m━━━━━━━━━━━━━━━━━━━━\u001b[0m\u001b[37m\u001b[0m \u001b[1m0s\u001b[0m 3ms/step - accuracy: 0.9792 - loss: 0.0626 - val_accuracy: 0.9735 - val_loss: 0.0742\n",
            "Epoch 9/20\n",
            "\u001b[1m95/95\u001b[0m \u001b[32m━━━━━━━━━━━━━━━━━━━━\u001b[0m\u001b[37m\u001b[0m \u001b[1m1s\u001b[0m 3ms/step - accuracy: 0.9758 - loss: 0.0661 - val_accuracy: 0.9755 - val_loss: 0.0777\n",
            "Epoch 10/20\n",
            "\u001b[1m95/95\u001b[0m \u001b[32m━━━━━━━━━━━━━━━━━━━━\u001b[0m\u001b[37m\u001b[0m \u001b[1m0s\u001b[0m 3ms/step - accuracy: 0.9817 - loss: 0.0581 - val_accuracy: 0.9636 - val_loss: 0.0952\n",
            "Epoch 11/20\n",
            "\u001b[1m95/95\u001b[0m \u001b[32m━━━━━━━━━━━━━━━━━━━━\u001b[0m\u001b[37m\u001b[0m \u001b[1m0s\u001b[0m 3ms/step - accuracy: 0.9797 - loss: 0.0684 - val_accuracy: 0.9629 - val_loss: 0.0897\n",
            "Epoch 12/20\n",
            "\u001b[1m95/95\u001b[0m \u001b[32m━━━━━━━━━━━━━━━━━━━━\u001b[0m\u001b[37m\u001b[0m \u001b[1m0s\u001b[0m 3ms/step - accuracy: 0.9802 - loss: 0.0604 - val_accuracy: 0.9662 - val_loss: 0.0847\n",
            "Epoch 13/20\n",
            "\u001b[1m95/95\u001b[0m \u001b[32m━━━━━━━━━━━━━━━━━━━━\u001b[0m\u001b[37m\u001b[0m \u001b[1m1s\u001b[0m 3ms/step - accuracy: 0.9827 - loss: 0.0586 - val_accuracy: 0.9636 - val_loss: 0.0884\n",
            "Epoch 14/20\n",
            "\u001b[1m95/95\u001b[0m \u001b[32m━━━━━━━━━━━━━━━━━━━━\u001b[0m\u001b[37m\u001b[0m \u001b[1m1s\u001b[0m 5ms/step - accuracy: 0.9750 - loss: 0.0728 - val_accuracy: 0.9530 - val_loss: 0.1102\n",
            "Epoch 15/20\n",
            "\u001b[1m95/95\u001b[0m \u001b[32m━━━━━━━━━━━━━━━━━━━━\u001b[0m\u001b[37m\u001b[0m \u001b[1m0s\u001b[0m 4ms/step - accuracy: 0.9778 - loss: 0.0651 - val_accuracy: 0.9424 - val_loss: 0.1372\n",
            "Epoch 16/20\n",
            "\u001b[1m95/95\u001b[0m \u001b[32m━━━━━━━━━━━━━━━━━━━━\u001b[0m\u001b[37m\u001b[0m \u001b[1m1s\u001b[0m 5ms/step - accuracy: 0.9834 - loss: 0.0549 - val_accuracy: 0.9338 - val_loss: 0.1803\n",
            "Epoch 17/20\n",
            "\u001b[1m95/95\u001b[0m \u001b[32m━━━━━━━━━━━━━━━━━━━━\u001b[0m\u001b[37m\u001b[0m \u001b[1m1s\u001b[0m 5ms/step - accuracy: 0.9795 - loss: 0.0596 - val_accuracy: 0.9351 - val_loss: 0.1882\n",
            "Epoch 18/20\n",
            "\u001b[1m95/95\u001b[0m \u001b[32m━━━━━━━━━━━━━━━━━━━━\u001b[0m\u001b[37m\u001b[0m \u001b[1m0s\u001b[0m 3ms/step - accuracy: 0.9823 - loss: 0.0541 - val_accuracy: 0.9371 - val_loss: 0.2084\n",
            "Epoch 19/20\n",
            "\u001b[1m95/95\u001b[0m \u001b[32m━━━━━━━━━━━━━━━━━━━━\u001b[0m\u001b[37m\u001b[0m \u001b[1m0s\u001b[0m 3ms/step - accuracy: 0.9823 - loss: 0.0534 - val_accuracy: 0.9371 - val_loss: 0.1991\n",
            "Epoch 20/20\n",
            "\u001b[1m95/95\u001b[0m \u001b[32m━━━━━━━━━━━━━━━━━━━━\u001b[0m\u001b[37m\u001b[0m \u001b[1m1s\u001b[0m 3ms/step - accuracy: 0.9775 - loss: 0.0657 - val_accuracy: 0.9385 - val_loss: 0.1647\n"
          ]
        },
        {
          "output_type": "display_data",
          "data": {
            "text/plain": [
              "<Figure size 640x480 with 1 Axes>"
            ],
            "image/png": "[encoded data removed]"
          },
          "metadata": {}
        },
        {
          "output_type": "stream",
          "name": "stderr",
          "text": [
            "WARNING:absl:You are saving your model as an HDF5 file via `model.save()` or `keras.saving.save_model(model)`. This file format is considered legacy. We recommend using instead the native Keras format, e.g. `model.save('my_model.keras')` or `keras.saving.save_model(model, 'my_model.keras')`. \n"
          ]
        }
      ]
    }
  ],
  "metadata": {
    "anaconda-cloud": {},
    "kernelspec": {
      "display_name": "Python [conda env:anaconda3]",
      "language": "python",
      "name": "conda-env-anaconda3-py"
    },
    "language_info": {
      "codemirror_mode": {
        "name": "ipython",
        "version": 3
      },
      "file_extension": ".py",
      "mimetype": "text/x-python",
      "name": "python",
      "nbconvert_exporter": "python",
      "pygments_lexer": "ipython3",
      "version": "3.5.4"
    },
    "colab": {
      "provenance": []
    }
  },
  "nbformat": 4,
  "nbformat_minor": 0
}